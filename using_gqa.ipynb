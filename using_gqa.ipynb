{
 "cells": [
  {
   "cell_type": "markdown",
   "metadata": {},
   "source": [
    "# Using the gqa code\n",
    "\n",
    "Tests and example code on how to use the code from the [gqa repo](https://github.com/dorarad/gqa).\n",
    "\n",
    "The use cases are:\n",
    "* create questions\n",
    "* downsample the questions"
   ]
  },
  {
   "cell_type": "code",
   "execution_count": 30,
   "metadata": {},
   "outputs": [],
   "source": [
    "from collections import Counter, defaultdict\n",
    "import random"
   ]
  },
  {
   "cell_type": "markdown",
   "metadata": {},
   "source": [
    "## Load VG data\n",
    "\n",
    "\n",
    "A few files need to be loaded before `createQuestions()` can run: x2imageFiles, topFiles, vocabFiles, ..., trainkeys.txt, vg_spatial_imgsInfo.json, ...\n",
    "\n",
    "I extended `download.sh` to also download all the vg data from version 1.4"
   ]
  },
  {
   "cell_type": "code",
   "execution_count": null,
   "metadata": {},
   "outputs": [],
   "source": []
  },
  {
   "cell_type": "markdown",
   "metadata": {},
   "source": [
    "## Create questions\n",
    "\n",
    "With `args.create` the question generation code is executed: `gen()` -> `genQuestionRep()` -> `generateQuestion()`"
   ]
  },
  {
   "cell_type": "code",
   "execution_count": null,
   "metadata": {},
   "outputs": [],
   "source": []
  },
  {
   "cell_type": "code",
   "execution_count": null,
   "metadata": {},
   "outputs": [],
   "source": []
  },
  {
   "cell_type": "markdown",
   "metadata": {},
   "source": [
    "## Downsample the questions\n",
    "\n",
    "With `args.normalize` the subsampling is executed: `select()`, `unbias()`, `toRatio()`, 2x `downsampleQuestions()`, 2x `typesampleQuestions()`, remove the same questions. The downsampling is always done on the image(!!) level!\n",
    "\n",
    "* coin: `random.random() < prob`\n",
    "* select: takes the `goodIDs` for each image and increases an `outCounter` (question[\"group\"]) and a `pretypeCounter` (question[\"type\"]) for each qID\n",
    "* unbias: takes the `ratios`\n",
    "  * ratios: from `unbiasRatios()`:\n",
    "    * if there is only one answer, it gets removed\n",
    "    * boolean questions: get a weight of `ratios[\"boolean\"][cond][\"yes\"] = min(1, (pn / py) )` if e.g. yes is more predominant\n",
    "    * open questions: each answer gets weighted by smoothed / count -> infrequent answers get a score close to 1, others less than 1\n",
    "    * unclear with which values it is smoothed\n",
    "    * differenziation per `cond`! \n",
    "* toRatio: `ratio = tnum / fnum` which are of itself sums of counters\n",
    "  * unclear what `questionSubtypes` does\n",
    "  * returns this ratio as probability if > 1, else it's inverse\n",
    "* downsampleQuestions: accept if `(question[\"group\"] not in gProb) or coin(gProb[question[\"group\"]])`, i.e. outProb = gProb of `[\"categoryRelS\", \"categoryRelO\"]` etc.\n",
    "  * why is it on the group level and not in the answers?\n",
    "* typesampleQuestions: accept if `(question[\"type\"] not in typeSamples) or coin(typeSamples[question[\"type\"]])`, i.e. accept all which are not 'verify', 'choose', 'logical' and those with the specified probability\n",
    "  * what???"
   ]
  },
  {
   "cell_type": "code",
   "execution_count": 27,
   "metadata": {},
   "outputs": [
    {
     "data": {
      "text/plain": [
       "{'open': defaultdict(<function __main__.<lambda>()>,\n",
       "             {'14-basket_contain,o': defaultdict(int,\n",
       "                          {'red': 3, 'white': 2, 'green': 5})}),\n",
       " 'boolean': defaultdict(<function __main__.<lambda>()>,\n",
       "             {'10c-snowboards_vposition': defaultdict(int,\n",
       "                          {'yes': 4, 'no': 1})})}"
      ]
     },
     "execution_count": 27,
     "metadata": {},
     "output_type": "execute_result"
    }
   ],
   "source": [
    "# understanding unbiasRatios():\n",
    "\n",
    "opencounter = defaultdict(lambda: defaultdict(int))\n",
    "booleancounter = defaultdict(lambda: defaultdict(int))\n",
    "\n",
    "quest_inst = [(\"10c-snowboards_vposition\", \"yes\"), (\"10c-snowboards_vposition\", \"yes\"), (\"10c-snowboards_vposition\", \"yes\"), (\"10c-snowboards_vposition\", \"yes\"),\n",
    "              (\"10c-snowboards_vposition\", \"no\"),\n",
    "              (\"14-basket_contain,o\", \"red\"), (\"14-basket_contain,o\", \"red\"), (\"14-basket_contain,o\", \"red\"), (\"14-basket_contain,o\", \"white\"), (\"14-basket_contain,o\", \"white\"),\n",
    "              (\"14-basket_contain,o\", \"green\"), (\"14-basket_contain,o\", \"green\"), (\"14-basket_contain,o\", \"green\"), (\"14-basket_contain,o\", \"green\"), (\"14-basket_contain,o\", \"green\"),]\n",
    "for cond, ans in quest_inst:\n",
    "    if ans in [\"yes\", \"no\"]:\n",
    "        booleancounter[cond][ans] += 1\n",
    "    else:\n",
    "        opencounter[cond][ans] += 1\n",
    "\n",
    "counters = {'open':opencounter,\n",
    "            'boolean':booleancounter}\n",
    "ratios = {\"open\": defaultdict(dict), \"boolean\": defaultdict(dict)}\n",
    "\n",
    "smallThr = 1.\n",
    "def uniformSmoother(thr):\n",
    "    def usmoother(counts):\n",
    "        s = sum(counts)\n",
    "        # ps = [float(sum(counts[:(i+1)])) for i in range(len(counts))]\n",
    "        k = 1 \n",
    "        for ck in range(1,len(counts))[::-1]:\n",
    "            if ((ck + 1) * counts[ck]) / s > thr:\n",
    "                k = ck\n",
    "                break\n",
    "        newCounts = [(counts[k] if i <= k else 0) for i in range(len(counts))]\n",
    "        return newCounts\n",
    "    return usmoother\n",
    "\n",
    "lsmoother = [2, 1.25, 0.03, 1.4]\n",
    "lsmoother_final = [1, 1.05, 0.02, 1.38]\n",
    "def customSmoother(b, gamma, gup, maxGamma): # gamma = 1.3, gup = 0.05  nts, b = 2, gamma = 1.3)\n",
    "    def csmoother(counts):\n",
    "    # gamma = 1.2 #1.3\n",
    "        s = sum(counts)\n",
    "        probs = [c/s for c in counts] \n",
    "        for i in range(len(counts)):\n",
    "            # print(counts)\n",
    "            if i == 0:\n",
    "                continue\n",
    "            s = sum(counts)\n",
    "            tail = sum([c for c in counts[i:]])\n",
    "            head = s - tail\n",
    "            p = (min(0.1*(i+b),0.85))\n",
    "            newHead = (p * tail / (1-p)) if i > 1 else 0 # (i-1) * tail # (1 - 1/i) * s\n",
    "            # print((min(0.1*(i+1),0.85)), newHead, tail)\n",
    "            if (sum(probs[i:]) > 0.099 or i == 1) and (head > newHead): # tail / s > 0.1\n",
    "                newGamma = min(gamma + (i-1) * gup, maxGamma) # 1.38 1.5\n",
    "                newProbs = [(probs[j]/sum(probs[:i])) for j in range(i)]\n",
    "                for j in range(i-1)[::-1]:\n",
    "                    newProbs[j] = min(newProbs[j], newGamma * newProbs[j+1])\n",
    "                n = sum(newProbs)\n",
    "                newProbs = [p/n for p in newProbs] \n",
    "                agamma = (1.1 if i > 1 else gamma)\n",
    "                if newProbs[i-1] * newHead < agamma * counts[i]: # gamma * \n",
    "                    newHead = (agamma * counts[i]) / newProbs[i-1]\n",
    "                    # print(newHead)\n",
    "                for j in range(i): #[::-1]:\n",
    "                    counts[j] = min(newProbs[j] * newHead, counts[j]) # max((probs[j]/sum(probs[:i])) * newHead, newGamma * counts[j+1])\n",
    "        return counts\n",
    "    return csmoother\n",
    "smtr_uni = uniformSmoother(smallThr) \n",
    "smtr_cust = customSmoother(b = lsmoother_final[0], gamma = lsmoother_final[1], gup = lsmoother_final[2], maxGamma = lsmoother_final[3])\n",
    "counters"
   ]
  },
  {
   "cell_type": "code",
   "execution_count": 29,
   "metadata": {},
   "outputs": [
    {
     "name": "stdout",
     "output_type": "stream",
     "text": [
      "14-basket_contain,o at green: 2.354 / 5 = 0.4708\n",
      "14-basket_contain,o at red: 2.2 / 3 = 0.7333333333333334\n",
      "14-basket_contain,o at white: 2.0 / 2 = 1.0\n"
     ]
    },
    {
     "data": {
      "text/plain": [
       "{'open': defaultdict(dict,\n",
       "             {'14-basket_contain,o': {'green': 0.4708,\n",
       "               'red': 0.7333333333333334,\n",
       "               'white': 1.0}}),\n",
       " 'boolean': defaultdict(dict, {})}"
      ]
     },
     "execution_count": 29,
     "metadata": {},
     "output_type": "execute_result"
    }
   ],
   "source": [
    "smoother = smtr_cust\n",
    "\n",
    "for cond in counters[\"open\"]:\n",
    "    ansDist = counters[\"open\"][cond]\n",
    "    answers = list(ansDist.keys()) \n",
    "    if len(answers) == 1: # and cond not in [\"age\", ]\n",
    "        print(\"removedOpen\", cond)            \n",
    "        ratios[\"open\"][cond][answers[0]] = min(1, float(1) / ansDist[answers[0]]) # 0.0\n",
    "    else:\n",
    "        sansDist = list(ansDist.items())\n",
    "        sansDist = sorted(sansDist, key = lambda x: x[1], reverse = True)\n",
    "        counts = [float(c) for _,c in sansDist]\n",
    "        newCounts = smoother(counts)\n",
    "        for i,c in enumerate(newCounts):\n",
    "            print(f\"{cond} at {sansDist[i][0]}: {c} / {sansDist[i][1]} = {float(c) / sansDist[i][1]}\")\n",
    "            ratios[\"open\"][cond][sansDist[i][0]] = float(c) / sansDist[i][1]\n",
    "\n",
    "ratios"
   ]
  },
  {
   "cell_type": "code",
   "execution_count": 32,
   "metadata": {},
   "outputs": [
    {
     "name": "stdout",
     "output_type": "stream",
     "text": [
      "added verify True\n",
      "added choose True\n",
      "added logical True\n",
      "added verify True\n",
      "added verify True\n",
      "added choose True\n"
     ]
    },
    {
     "ename": "KeyError",
     "evalue": "'compare'",
     "output_type": "error",
     "traceback": [
      "\u001b[0;31m---------------------------------------------------------------------------\u001b[0m",
      "\u001b[0;31mKeyError\u001b[0m                                  Traceback (most recent call last)",
      "Cell \u001b[0;32mIn[32], line 19\u001b[0m\n\u001b[1;32m     15\u001b[0m questions \u001b[38;5;241m=\u001b[39m [{\u001b[38;5;124m\"\u001b[39m\u001b[38;5;124mtype\u001b[39m\u001b[38;5;124m\"\u001b[39m: \u001b[38;5;124m'\u001b[39m\u001b[38;5;124mverify\u001b[39m\u001b[38;5;124m'\u001b[39m}, {\u001b[38;5;124m\"\u001b[39m\u001b[38;5;124mtype\u001b[39m\u001b[38;5;124m\"\u001b[39m: \u001b[38;5;124m'\u001b[39m\u001b[38;5;124mchoose\u001b[39m\u001b[38;5;124m'\u001b[39m}, {\u001b[38;5;124m\"\u001b[39m\u001b[38;5;124mtype\u001b[39m\u001b[38;5;124m\"\u001b[39m: \u001b[38;5;124m'\u001b[39m\u001b[38;5;124mlogical\u001b[39m\u001b[38;5;124m'\u001b[39m}, {\u001b[38;5;124m'\u001b[39m\u001b[38;5;124mtype\u001b[39m\u001b[38;5;124m'\u001b[39m: \u001b[38;5;124m'\u001b[39m\u001b[38;5;124mverify\u001b[39m\u001b[38;5;124m'\u001b[39m}, {\u001b[38;5;124m\"\u001b[39m\u001b[38;5;124mtype\u001b[39m\u001b[38;5;124m\"\u001b[39m: \u001b[38;5;124m'\u001b[39m\u001b[38;5;124mverify\u001b[39m\u001b[38;5;124m'\u001b[39m}, {\u001b[38;5;124m\"\u001b[39m\u001b[38;5;124mtype\u001b[39m\u001b[38;5;124m\"\u001b[39m: \u001b[38;5;124m'\u001b[39m\u001b[38;5;124mchoose\u001b[39m\u001b[38;5;124m'\u001b[39m},\n\u001b[1;32m     16\u001b[0m              {\u001b[38;5;124m\"\u001b[39m\u001b[38;5;124mtype\u001b[39m\u001b[38;5;124m\"\u001b[39m: \u001b[38;5;124m'\u001b[39m\u001b[38;5;124mcompare\u001b[39m\u001b[38;5;124m'\u001b[39m}, {\u001b[38;5;124m\"\u001b[39m\u001b[38;5;124mtype\u001b[39m\u001b[38;5;124m\"\u001b[39m: \u001b[38;5;124m'\u001b[39m\u001b[38;5;124mcompare\u001b[39m\u001b[38;5;124m'\u001b[39m}, {\u001b[38;5;124m\"\u001b[39m\u001b[38;5;124mtype\u001b[39m\u001b[38;5;124m\"\u001b[39m: \u001b[38;5;124m'\u001b[39m\u001b[38;5;124mcompare\u001b[39m\u001b[38;5;124m'\u001b[39m}, {\u001b[38;5;124m'\u001b[39m\u001b[38;5;124mtype\u001b[39m\u001b[38;5;124m'\u001b[39m: \u001b[38;5;124m'\u001b[39m\u001b[38;5;124mquery\u001b[39m\u001b[38;5;124m'\u001b[39m}, {\u001b[38;5;124m\"\u001b[39m\u001b[38;5;124mtype\u001b[39m\u001b[38;5;124m\"\u001b[39m: \u001b[38;5;124m'\u001b[39m\u001b[38;5;124mquery\u001b[39m\u001b[38;5;124m'\u001b[39m}, {\u001b[38;5;124m\"\u001b[39m\u001b[38;5;124mtype\u001b[39m\u001b[38;5;124m\"\u001b[39m: \u001b[38;5;124m'\u001b[39m\u001b[38;5;124mquery\u001b[39m\u001b[38;5;124m'\u001b[39m},]\n\u001b[1;32m     18\u001b[0m \u001b[38;5;28;01mfor\u001b[39;00m question \u001b[38;5;129;01min\u001b[39;00m questions:\n\u001b[0;32m---> 19\u001b[0m     coin_throw \u001b[38;5;241m=\u001b[39m coin(\u001b[43mtypeSamples\u001b[49m\u001b[43m[\u001b[49m\u001b[43mquestion\u001b[49m\u001b[43m[\u001b[49m\u001b[38;5;124;43m\"\u001b[39;49m\u001b[38;5;124;43mtype\u001b[39;49m\u001b[38;5;124;43m\"\u001b[39;49m\u001b[43m]\u001b[49m\u001b[43m]\u001b[49m)\n\u001b[1;32m     20\u001b[0m     \u001b[38;5;28;01mif\u001b[39;00m (question[\u001b[38;5;124m\"\u001b[39m\u001b[38;5;124mtype\u001b[39m\u001b[38;5;124m\"\u001b[39m] \u001b[38;5;129;01mnot\u001b[39;00m \u001b[38;5;129;01min\u001b[39;00m typeSamples) \u001b[38;5;129;01mor\u001b[39;00m coin_throw:\n\u001b[1;32m     21\u001b[0m         \u001b[38;5;28mprint\u001b[39m(\u001b[38;5;124m\"\u001b[39m\u001b[38;5;124madded\u001b[39m\u001b[38;5;124m\"\u001b[39m, question[\u001b[38;5;124m\"\u001b[39m\u001b[38;5;124mtype\u001b[39m\u001b[38;5;124m\"\u001b[39m], coin_throw)\n",
      "\u001b[0;31mKeyError\u001b[0m: 'compare'"
     ]
    }
   ],
   "source": [
    "# understanding typesampleQuestions():\n",
    "def coin(prob):\n",
    "    if prob == 1:\n",
    "        return True\n",
    "    if prob == 0:\n",
    "        return False\n",
    "    return random.random() < prob\n",
    "\n",
    "typeSamples = {\n",
    "    \"verify\": 0.75,   #newAll * 0.17, #0.75, \n",
    "    \"choose\": 0.865,  #newAll * , #0.865, \n",
    "    \"logical\": 0.95,  #newAll, #0.95\n",
    "}\n",
    "\n",
    "questions = [{\"type\": 'verify'}, {\"type\": 'choose'}, {\"type\": 'logical'}, {'type': 'verify'}, {\"type\": 'verify'}, {\"type\": 'choose'},\n",
    "             {\"type\": 'compare'}, {\"type\": 'compare'}, {\"type\": 'compare'}, {'type': 'query'}, {\"type\": 'query'}, {\"type\": 'query'},]\n",
    "\n",
    "for question in questions:\n",
    "    coin_throw = coin(typeSamples[question[\"type\"]])\n",
    "    if (question[\"type\"] not in typeSamples) or coin_throw:\n",
    "        print(\"added\", question[\"type\"], coin_throw)\n",
    "    else:\n",
    "        print(\"not added\", question[\"type\"], coin_throw)"
   ]
  },
  {
   "cell_type": "code",
   "execution_count": null,
   "metadata": {},
   "outputs": [],
   "source": []
  },
  {
   "cell_type": "code",
   "execution_count": null,
   "metadata": {},
   "outputs": [],
   "source": []
  }
 ],
 "metadata": {
  "kernelspec": {
   "display_name": "Python 3",
   "language": "python",
   "name": "python3"
  },
  "language_info": {
   "codemirror_mode": {
    "name": "ipython",
    "version": 3
   },
   "file_extension": ".py",
   "mimetype": "text/x-python",
   "name": "python",
   "nbconvert_exporter": "python",
   "pygments_lexer": "ipython3",
   "version": "3.11.8"
  }
 },
 "nbformat": 4,
 "nbformat_minor": 2
}
