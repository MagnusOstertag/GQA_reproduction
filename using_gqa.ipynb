{
 "cells": [
  {
   "cell_type": "markdown",
   "metadata": {},
   "source": [
    "# Using the gqa code\n",
    "\n",
    "Tests and example code on how to use the code from the [gqa repo](https://github.com/dorarad/gqa).\n",
    "\n",
    "The use cases are:\n",
    "* create questions\n",
    "* downsample the questions"
   ]
  },
  {
   "cell_type": "code",
   "execution_count": 43,
   "metadata": {},
   "outputs": [],
   "source": [
    "from collections import Counter, defaultdict\n",
    "import random\n",
    "import pandas as pd\n",
    "import plotly.graph_objects as go"
   ]
  },
  {
   "cell_type": "code",
   "execution_count": 44,
   "metadata": {},
   "outputs": [],
   "source": [
    "show_big_figures = True"
   ]
  },
  {
   "cell_type": "markdown",
   "metadata": {},
   "source": [
    "## Load VG data\n",
    "\n",
    "\n",
    "A few files need to be loaded before `createQuestions()` can run: x2imageFiles, topFiles, vocabFiles, ..., trainkeys.txt, vg_spatial_imgsInfo.json, ...\n",
    "\n",
    "I extended `download.sh` to also download all the vg data from version 1.4"
   ]
  },
  {
   "cell_type": "code",
   "execution_count": null,
   "metadata": {},
   "outputs": [],
   "source": []
  },
  {
   "cell_type": "markdown",
   "metadata": {},
   "source": [
    "## Create questions\n",
    "\n",
    "With `args.create` the question generation code is executed: `gen()` -> `genQuestionRep()` -> `generateQuestion()`"
   ]
  },
  {
   "cell_type": "code",
   "execution_count": null,
   "metadata": {},
   "outputs": [],
   "source": []
  },
  {
   "cell_type": "markdown",
   "metadata": {},
   "source": [
    "## Downsample the questions\n",
    "\n",
    "With `args.normalize` the subsampling is executed: `select()`, `unbias()`, `toRatio()`, 2x `downsampleQuestions()`, 2x `typesampleQuestions()`, remove the same questions. The downsampling is always done on the image(!!) level!\n",
    "\n",
    "* coin: `random.random() < prob`\n",
    "* select: takes the `goodIDs` for each image and increases an `outCounter` (question[\"group\"]) and a `pretypeCounter` (question[\"type\"]) for each qID\n",
    "* unbias: takes the `ratios`\n",
    "  * ratios: from `unbiasRatios()`:\n",
    "    * if there is only one answer, it gets removed\n",
    "    * boolean questions: get a weight of `ratios[\"boolean\"][cond][\"yes\"] = min(1, (pn / py) )` if e.g. yes is more predominant\n",
    "    * open questions: each answer gets weighted by smoothed / count -> infrequent answers get a score close to 1, others less than 1\n",
    "    * unclear with which values it is smoothed\n",
    "    * differenziation per `cond`! \n",
    "* `customSmoother(b, gamma, gup, maxGamma)`\n",
    "  * are the commented final values the values used in the end (final:b = 1, gamma = 1.05, gup = 0.02 maxGamma = 1.38)? How was it decided?\n",
    "* toRatio: `ratio = tnum / fnum` which are of itself sums of counters\n",
    "  * unclear what `questionSubtypes` does\n",
    "  * returns this ratio as probability if > 1, else it's inverse\n",
    "* downsampleQuestions: accept if `(question[\"group\"] not in gProb) or coin(gProb[question[\"group\"]])`, i.e. outProb = gProb of `[\"categoryRelS\", \"categoryRelO\"]` etc.\n",
    "  * why is it on the group level and not in the answers?\n",
    "* typesampleQuestions: accept if `(question[\"type\"] not in typeSamples) or coin(typeSamples[question[\"type\"]])`, i.e. accept all which are not 'verify', 'choose', 'logical' and those with the specified probability\n",
    "  * what???"
   ]
  },
  {
   "cell_type": "code",
   "execution_count": 27,
   "metadata": {},
   "outputs": [
    {
     "data": {
      "text/plain": [
       "{'open': defaultdict(<function __main__.<lambda>()>,\n",
       "             {'14-basket_contain,o': defaultdict(int,\n",
       "                          {'red': 3, 'white': 2, 'green': 5})}),\n",
       " 'boolean': defaultdict(<function __main__.<lambda>()>,\n",
       "             {'10c-snowboards_vposition': defaultdict(int,\n",
       "                          {'yes': 4, 'no': 1})})}"
      ]
     },
     "execution_count": 27,
     "metadata": {},
     "output_type": "execute_result"
    }
   ],
   "source": [
    "# understanding unbiasRatios():\n",
    "\n",
    "opencounter = defaultdict(lambda: defaultdict(int))\n",
    "booleancounter = defaultdict(lambda: defaultdict(int))\n",
    "\n",
    "quest_inst = [(\"10c-snowboards_vposition\", \"yes\"), (\"10c-snowboards_vposition\", \"yes\"), (\"10c-snowboards_vposition\", \"yes\"), (\"10c-snowboards_vposition\", \"yes\"),\n",
    "              (\"10c-snowboards_vposition\", \"no\"),\n",
    "              (\"14-basket_contain,o\", \"red\"), (\"14-basket_contain,o\", \"red\"), (\"14-basket_contain,o\", \"red\"), (\"14-basket_contain,o\", \"white\"), (\"14-basket_contain,o\", \"white\"),\n",
    "              (\"14-basket_contain,o\", \"green\"), (\"14-basket_contain,o\", \"green\"), (\"14-basket_contain,o\", \"green\"), (\"14-basket_contain,o\", \"green\"), (\"14-basket_contain,o\", \"green\"),]\n",
    "for cond, ans in quest_inst:\n",
    "    if ans in [\"yes\", \"no\"]:\n",
    "        booleancounter[cond][ans] += 1\n",
    "    else:\n",
    "        opencounter[cond][ans] += 1\n",
    "\n",
    "counters = {'open':opencounter,\n",
    "            'boolean':booleancounter}\n",
    "ratios = {\"open\": defaultdict(dict), \"boolean\": defaultdict(dict)}\n",
    "\n",
    "smallThr = 1.\n",
    "def uniformSmoother(thr):\n",
    "    def usmoother(counts):\n",
    "        s = sum(counts)\n",
    "        # ps = [float(sum(counts[:(i+1)])) for i in range(len(counts))]\n",
    "        k = 1 \n",
    "        for ck in range(1,len(counts))[::-1]:\n",
    "            if ((ck + 1) * counts[ck]) / s > thr:\n",
    "                k = ck\n",
    "                break\n",
    "        newCounts = [(counts[k] if i <= k else 0) for i in range(len(counts))]\n",
    "        return newCounts\n",
    "    return usmoother\n",
    "\n",
    "lsmoother = [2, 1.25, 0.03, 1.4]\n",
    "lsmoother_final = [1, 1.05, 0.02, 1.38]\n",
    "def customSmoother(b, gamma, gup, maxGamma): # gamma = 1.3, gup = 0.05  nts, b = 2, gamma = 1.3)\n",
    "    def csmoother(counts):\n",
    "    # gamma = 1.2 #1.3\n",
    "        s = sum(counts)\n",
    "        probs = [c/s for c in counts] \n",
    "        for i in range(len(counts)):\n",
    "            # print(counts)\n",
    "            if i == 0:\n",
    "                continue\n",
    "            s = sum(counts)\n",
    "            tail = sum([c for c in counts[i:]])\n",
    "            head = s - tail\n",
    "            p = (min(0.1*(i+b),0.85))\n",
    "            newHead = (p * tail / (1-p)) if i > 1 else 0 # (i-1) * tail # (1 - 1/i) * s\n",
    "            # print((min(0.1*(i+1),0.85)), newHead, tail)\n",
    "            if (sum(probs[i:]) > 0.099 or i == 1) and (head > newHead): # tail / s > 0.1\n",
    "                newGamma = min(gamma + (i-1) * gup, maxGamma) # 1.38 1.5\n",
    "                newProbs = [(probs[j]/sum(probs[:i])) for j in range(i)]\n",
    "                for j in range(i-1)[::-1]:\n",
    "                    newProbs[j] = min(newProbs[j], newGamma * newProbs[j+1])\n",
    "                n = sum(newProbs)\n",
    "                newProbs = [p/n for p in newProbs] \n",
    "                agamma = (1.1 if i > 1 else gamma)\n",
    "                if newProbs[i-1] * newHead < agamma * counts[i]: # gamma * \n",
    "                    newHead = (agamma * counts[i]) / newProbs[i-1]\n",
    "                    # print(newHead)\n",
    "                for j in range(i): #[::-1]:\n",
    "                    counts[j] = min(newProbs[j] * newHead, counts[j]) # max((probs[j]/sum(probs[:i])) * newHead, newGamma * counts[j+1])\n",
    "        return counts\n",
    "    return csmoother\n",
    "smtr_uni = uniformSmoother(smallThr) \n",
    "smtr_cust = customSmoother(b = lsmoother_final[0], gamma = lsmoother_final[1], gup = lsmoother_final[2], maxGamma = lsmoother_final[3])\n",
    "counters"
   ]
  },
  {
   "cell_type": "code",
   "execution_count": 29,
   "metadata": {},
   "outputs": [
    {
     "name": "stdout",
     "output_type": "stream",
     "text": [
      "14-basket_contain,o at green: 2.354 / 5 = 0.4708\n",
      "14-basket_contain,o at red: 2.2 / 3 = 0.7333333333333334\n",
      "14-basket_contain,o at white: 2.0 / 2 = 1.0\n"
     ]
    },
    {
     "data": {
      "text/plain": [
       "{'open': defaultdict(dict,\n",
       "             {'14-basket_contain,o': {'green': 0.4708,\n",
       "               'red': 0.7333333333333334,\n",
       "               'white': 1.0}}),\n",
       " 'boolean': defaultdict(dict, {})}"
      ]
     },
     "execution_count": 29,
     "metadata": {},
     "output_type": "execute_result"
    }
   ],
   "source": [
    "smoother = smtr_cust\n",
    "\n",
    "for cond in counters[\"open\"]:\n",
    "    ansDist = counters[\"open\"][cond]\n",
    "    answers = list(ansDist.keys()) \n",
    "    if len(answers) == 1: # and cond not in [\"age\", ]\n",
    "        print(\"removedOpen\", cond)            \n",
    "        ratios[\"open\"][cond][answers[0]] = min(1, float(1) / ansDist[answers[0]]) # 0.0\n",
    "    else:\n",
    "        sansDist = list(ansDist.items())\n",
    "        sansDist = sorted(sansDist, key = lambda x: x[1], reverse = True)\n",
    "        counts = [float(c) for _,c in sansDist]\n",
    "        newCounts = smoother(counts)\n",
    "        for i,c in enumerate(newCounts):\n",
    "            print(f\"{cond} at {sansDist[i][0]}: {c} / {sansDist[i][1]} = {float(c) / sansDist[i][1]}\")\n",
    "            ratios[\"open\"][cond][sansDist[i][0]] = float(c) / sansDist[i][1]\n",
    "\n",
    "ratios"
   ]
  },
  {
   "cell_type": "code",
   "execution_count": 19,
   "metadata": {},
   "outputs": [
    {
     "name": "stdout",
     "output_type": "stream",
     "text": [
      "added verify True\n",
      "added choose True\n",
      "added logical True\n",
      "not added verify False\n",
      "added verify True\n",
      "added choose True\n"
     ]
    },
    {
     "ename": "KeyError",
     "evalue": "'compare'",
     "output_type": "error",
     "traceback": [
      "\u001b[0;31m---------------------------------------------------------------------------\u001b[0m",
      "\u001b[0;31mKeyError\u001b[0m                                  Traceback (most recent call last)",
      "Cell \u001b[0;32mIn[19], line 19\u001b[0m\n\u001b[1;32m     15\u001b[0m questions \u001b[38;5;241m=\u001b[39m [{\u001b[38;5;124m\"\u001b[39m\u001b[38;5;124mtype\u001b[39m\u001b[38;5;124m\"\u001b[39m: \u001b[38;5;124m'\u001b[39m\u001b[38;5;124mverify\u001b[39m\u001b[38;5;124m'\u001b[39m}, {\u001b[38;5;124m\"\u001b[39m\u001b[38;5;124mtype\u001b[39m\u001b[38;5;124m\"\u001b[39m: \u001b[38;5;124m'\u001b[39m\u001b[38;5;124mchoose\u001b[39m\u001b[38;5;124m'\u001b[39m}, {\u001b[38;5;124m\"\u001b[39m\u001b[38;5;124mtype\u001b[39m\u001b[38;5;124m\"\u001b[39m: \u001b[38;5;124m'\u001b[39m\u001b[38;5;124mlogical\u001b[39m\u001b[38;5;124m'\u001b[39m}, {\u001b[38;5;124m'\u001b[39m\u001b[38;5;124mtype\u001b[39m\u001b[38;5;124m'\u001b[39m: \u001b[38;5;124m'\u001b[39m\u001b[38;5;124mverify\u001b[39m\u001b[38;5;124m'\u001b[39m}, {\u001b[38;5;124m\"\u001b[39m\u001b[38;5;124mtype\u001b[39m\u001b[38;5;124m\"\u001b[39m: \u001b[38;5;124m'\u001b[39m\u001b[38;5;124mverify\u001b[39m\u001b[38;5;124m'\u001b[39m}, {\u001b[38;5;124m\"\u001b[39m\u001b[38;5;124mtype\u001b[39m\u001b[38;5;124m\"\u001b[39m: \u001b[38;5;124m'\u001b[39m\u001b[38;5;124mchoose\u001b[39m\u001b[38;5;124m'\u001b[39m},\n\u001b[1;32m     16\u001b[0m              {\u001b[38;5;124m\"\u001b[39m\u001b[38;5;124mtype\u001b[39m\u001b[38;5;124m\"\u001b[39m: \u001b[38;5;124m'\u001b[39m\u001b[38;5;124mcompare\u001b[39m\u001b[38;5;124m'\u001b[39m}, {\u001b[38;5;124m\"\u001b[39m\u001b[38;5;124mtype\u001b[39m\u001b[38;5;124m\"\u001b[39m: \u001b[38;5;124m'\u001b[39m\u001b[38;5;124mcompare\u001b[39m\u001b[38;5;124m'\u001b[39m}, {\u001b[38;5;124m\"\u001b[39m\u001b[38;5;124mtype\u001b[39m\u001b[38;5;124m\"\u001b[39m: \u001b[38;5;124m'\u001b[39m\u001b[38;5;124mcompare\u001b[39m\u001b[38;5;124m'\u001b[39m}, {\u001b[38;5;124m'\u001b[39m\u001b[38;5;124mtype\u001b[39m\u001b[38;5;124m'\u001b[39m: \u001b[38;5;124m'\u001b[39m\u001b[38;5;124mquery\u001b[39m\u001b[38;5;124m'\u001b[39m}, {\u001b[38;5;124m\"\u001b[39m\u001b[38;5;124mtype\u001b[39m\u001b[38;5;124m\"\u001b[39m: \u001b[38;5;124m'\u001b[39m\u001b[38;5;124mquery\u001b[39m\u001b[38;5;124m'\u001b[39m}, {\u001b[38;5;124m\"\u001b[39m\u001b[38;5;124mtype\u001b[39m\u001b[38;5;124m\"\u001b[39m: \u001b[38;5;124m'\u001b[39m\u001b[38;5;124mquery\u001b[39m\u001b[38;5;124m'\u001b[39m},]\n\u001b[1;32m     18\u001b[0m \u001b[38;5;28;01mfor\u001b[39;00m question \u001b[38;5;129;01min\u001b[39;00m questions:\n\u001b[0;32m---> 19\u001b[0m     coin_throw \u001b[38;5;241m=\u001b[39m coin(\u001b[43mtypeSamples\u001b[49m\u001b[43m[\u001b[49m\u001b[43mquestion\u001b[49m\u001b[43m[\u001b[49m\u001b[38;5;124;43m\"\u001b[39;49m\u001b[38;5;124;43mtype\u001b[39;49m\u001b[38;5;124;43m\"\u001b[39;49m\u001b[43m]\u001b[49m\u001b[43m]\u001b[49m)\n\u001b[1;32m     20\u001b[0m     \u001b[38;5;28;01mif\u001b[39;00m (question[\u001b[38;5;124m\"\u001b[39m\u001b[38;5;124mtype\u001b[39m\u001b[38;5;124m\"\u001b[39m] \u001b[38;5;129;01mnot\u001b[39;00m \u001b[38;5;129;01min\u001b[39;00m typeSamples) \u001b[38;5;129;01mor\u001b[39;00m coin_throw:\n\u001b[1;32m     21\u001b[0m         \u001b[38;5;28mprint\u001b[39m(\u001b[38;5;124m\"\u001b[39m\u001b[38;5;124madded\u001b[39m\u001b[38;5;124m\"\u001b[39m, question[\u001b[38;5;124m\"\u001b[39m\u001b[38;5;124mtype\u001b[39m\u001b[38;5;124m\"\u001b[39m], coin_throw)\n",
      "\u001b[0;31mKeyError\u001b[0m: 'compare'"
     ]
    }
   ],
   "source": [
    "# understanding typesampleQuestions():\n",
    "def coin(prob):\n",
    "    if prob == 1:\n",
    "        return True\n",
    "    if prob == 0:\n",
    "        return False\n",
    "    return random.random() < prob\n",
    "\n",
    "typeSamples = {\n",
    "    \"verify\": 0.75,   #newAll * 0.17, #0.75, \n",
    "    \"choose\": 0.865,  #newAll * , #0.865, \n",
    "    \"logical\": 0.95,  #newAll, #0.95\n",
    "}\n",
    "\n",
    "questions = [{\"type\": 'verify'}, {\"type\": 'choose'}, {\"type\": 'logical'}, {'type': 'verify'}, {\"type\": 'verify'}, {\"type\": 'choose'},\n",
    "             {\"type\": 'compare'}, {\"type\": 'compare'}, {\"type\": 'compare'}, {'type': 'query'}, {\"type\": 'query'}, {\"type\": 'query'},]\n",
    "\n",
    "for question in questions:\n",
    "    coin_throw = coin(typeSamples[question[\"type\"]])\n",
    "    if (question[\"type\"] not in typeSamples) or coin_throw:\n",
    "        print(\"added\", question[\"type\"], coin_throw)\n",
    "    else:\n",
    "        print(\"not added\", question[\"type\"], coin_throw)"
   ]
  },
  {
   "cell_type": "code",
   "execution_count": 16,
   "metadata": {},
   "outputs": [],
   "source": [
    "# understanding customSmoother():\n",
    "\n",
    "def customSmoother(b, gamma, gup, maxGamma):\n",
    "# b >= 1, \\in (1,2)\n",
    "# gamma > 1, \\in (1.05, 1.3)\n",
    "# gup > 0, \\in (0.02, 0.05)\n",
    "# maxGamma > 1, \\in (1.38, 1.5)\n",
    "\n",
    "    def csmoother(counts):\n",
    "        s = sum(counts)\n",
    "        probs = [c/s for c in counts] \n",
    "\n",
    "        for i in range(len(counts)):\n",
    "            if i == 0:\n",
    "                continue\n",
    "            s = sum(counts)  # unnecessary\n",
    "\n",
    "            tail = sum([c for c in counts[i:]])\n",
    "            head = s - tail\n",
    "\n",
    "            p = (min(0.1*(i+b),0.85))  # i>=1, b>=1 and \\in (1,2) -> (0.2, 0.85)\n",
    "            newHead = (p * tail / (1-p)) if i > 1 else 0  # is the tail weighted by a factor of (0.25, 5.67)\n",
    "\n",
    "            if (sum(probs[i:]) > 0.099 or i == 1) and (head > newHead): \n",
    "            # if there is enough probability mass left or if i == 1, and if the head is greater than the weighted tail\n",
    "                newGamma = min(gamma + (i-1) * gup, maxGamma)  # increase gamma by a small step until maxGamma\n",
    "                newProbs = [(probs[j]/sum(probs[:i])) for j in range(i)]  # normalize the head probabilities\n",
    "\n",
    "                # the probability of each entry has to be less than the newGamma times the next larger entry\n",
    "                for j in range(i-1)[::-1]:\n",
    "                    newProbs[j] = min(newProbs[j], newGamma * newProbs[j+1])\n",
    "\n",
    "                # normalize the new probabilities\n",
    "                n = sum(newProbs)\n",
    "                newProbs = [p/n for p in newProbs]\n",
    "\n",
    "                # value of the count[i-1] stays (at least) (by *agamma) >= count[i]\n",
    "                agamma = (1.1 if i > 1 else gamma)\n",
    "                if newProbs[i-1] * newHead < agamma * counts[i]:\n",
    "                    newHead = (agamma * counts[i]) / newProbs[i-1]\n",
    "\n",
    "                # reduces the counts in the head in a consecutive decreasing order \n",
    "                for j in range(i):\n",
    "                    counts[j] = min(newProbs[j] * newHead, counts[j])\n",
    "\n",
    "        return counts\n",
    "    return csmoother"
   ]
  },
  {
   "cell_type": "code",
   "execution_count": 7,
   "metadata": {},
   "outputs": [],
   "source": [
    "# load the case where it works badly\n",
    "all_filtered_by_column = pd.read_csv('results/BAL_02q-place_all.csv')\n",
    "balanced_filtered_by_column = pd.read_csv('results/BAL_02q-place_balanced.csv')"
   ]
  },
  {
   "cell_type": "code",
   "execution_count": 23,
   "metadata": {},
   "outputs": [],
   "source": [
    "# try to find some counter-example for the csmoother()\n",
    "opencounter = defaultdict(lambda: defaultdict(int))\n",
    "booleancounter = defaultdict(lambda: defaultdict(int))\n",
    "\n",
    "# quest_inst = [(\"10c-snowboards_vposition\", \"yes\"), (\"10c-snowboards_vposition\", \"yes\"), (\"10c-snowboards_vposition\", \"yes\"), (\"10c-snowboards_vposition\", \"yes\"),\n",
    "#               (\"10c-snowboards_vposition\", \"no\"),\n",
    "#               (\"14-basket_contain,o\", \"red\"), (\"14-basket_contain,o\", \"red\"), (\"14-basket_contain,o\", \"red\"), (\"14-basket_contain,o\", \"white\"), (\"14-basket_contain,o\", \"white\"),\n",
    "#               (\"14-basket_contain,o\", \"green\"), (\"14-basket_contain,o\", \"green\"), (\"14-basket_contain,o\", \"green\"), (\"14-basket_contain,o\", \"green\"), (\"14-basket_contain,o\", \"green\"),]\n",
    "# for cond, ans in quest_inst:\n",
    "#     if ans in [\"yes\", \"no\"]:\n",
    "#         booleancounter[cond][ans] += 1\n",
    "#     else:\n",
    "#         opencounter[cond][ans] += 1\n",
    "\n",
    "for i, row in all_filtered_by_column.iterrows():\n",
    "    opencounter[row['local_question_group']][row['answer']] += 1\n",
    "\n",
    "counters = {'open':opencounter,\n",
    "            'boolean':booleancounter}\n",
    "ratios = {\"open\": defaultdict(dict), \"boolean\": defaultdict(dict)}\n"
   ]
  },
  {
   "cell_type": "code",
   "execution_count": 24,
   "metadata": {},
   "outputs": [],
   "source": [
    "# smoother: final:b = 1, gamma = 1.05, gup = 0.02 maxGamma = 1.38\n",
    "smtr_cust = customSmoother(b = 1, gamma = 1.05, gup = 0.02, maxGamma = 1.38)"
   ]
  },
  {
   "cell_type": "code",
   "execution_count": 25,
   "metadata": {},
   "outputs": [
    {
     "name": "stdout",
     "output_type": "stream",
     "text": [
      "02q-place at field: 6264.3 / 9196 = 0.681198347107438\n",
      "02q-place at road: 5817.654419135448 / 5966 = 0.9751348339147583\n",
      "02q-place at street: 4215.691608069165 / 5130 = 0.8217722432883363\n",
      "02q-place at sidewalk: 3054.8489913544677 / 3069 = 0.9953890489913547\n",
      "02q-place at beach: 2872.692795389049 / 2886 = 0.9953890489913545\n",
      "02q-place at ocean: 2306.9682072622477 / 2671 = 0.8637095497050722\n",
      "02q-place at park: 1671.7160922190203 / 2000 = 0.8358580461095102\n",
      "02q-place at pavement: 1211.3884726224785 / 1217 = 0.9953890489913546\n",
      "02q-place at city: 1191.4806916426514 / 1197 = 0.9953890489913546\n",
      "02q-place at forest: 1022.2645533141213 / 1027 = 0.9953890489913547\n",
      "02q-place at airport: 861.0115273775217 / 865 = 0.9953890489913546\n",
      "02q-place at station: 777.398847262248 / 781 = 0.9953890489913546\n",
      "02q-place at zoo: 771.4265129682999 / 775 = 0.9953890489913547\n",
      "02q-place at parking lot: 750.5233429394815 / 754 = 0.9953890489913547\n",
      "02q-place at river: 736.5878962536025 / 740 = 0.9953890489913547\n",
      "02q-place at restaurant: 571.3533141210376 / 574 = 0.9953890489913546\n",
      "02q-place at store: 528.5515850144093 / 531 = 0.9953890489913546\n",
      "02q-place at lake: 520.5884726224784 / 523 = 0.9953890489913546\n",
      "02q-place at train station: 446.9296829971183 / 449 = 0.9953890489913547\n",
      "02q-place at skate park: 430.00806916426524 / 432 = 0.9953890489913547\n",
      "02q-place at yard: 419.0587896253603 / 421 = 0.9953890489913546\n",
      "02q-place at pen: 410.1002881844381 / 412 = 0.9953890489913546\n",
      "02q-place at path: 396.1648414985591 / 398 = 0.9953890489913545\n",
      "02q-place at walkway: 395.16945244956776 / 397 = 0.9953890489913545\n",
      "02q-place at display: 378.2478386167147 / 380 = 0.9953890489913545\n",
      "02q-place at runway: 365.3077809798271 / 367 = 0.9953890489913545\n",
      "02q-place at pasture: 348.38616714697406 / 350 = 0.9953890489913545\n",
      "02q-place at stadium: 345.40000000000003 / 347 = 0.9953890489913546\n",
      "02q-place at shore: 314.0 / 314 = 1.0\n",
      "02q-place at garden: 248.0 / 248 = 1.0\n",
      "02q-place at market: 233.0 / 233 = 1.0\n",
      "02q-place at lawn: 223.0 / 223 = 1.0\n",
      "02q-place at sea: 214.0 / 214 = 1.0\n",
      "02q-place at church: 208.0 / 208 = 1.0\n",
      "02q-place at swimming pool: 197.0 / 197 = 1.0\n",
      "02q-place at shop: 185.0 / 185 = 1.0\n",
      "02q-place at pond: 164.0 / 164 = 1.0\n",
      "02q-place at harbor: 162.0 / 162 = 1.0\n",
      "02q-place at farm: 146.0 / 146 = 1.0\n",
      "02q-place at patio: 145.0 / 145 = 1.0\n",
      "02q-place at highway: 137.0 / 137 = 1.0\n",
      "02q-place at town: 129.0 / 129 = 1.0\n",
      "02q-place at porch: 129.0 / 129 = 1.0\n",
      "02q-place at desert: 122.0 / 122 = 1.0\n",
      "02q-place at plain: 118.0 / 118 = 1.0\n",
      "02q-place at garage: 115.0 / 115 = 1.0\n",
      "02q-place at railroad: 102.0 / 102 = 1.0\n",
      "02q-place at hotel room: 102.0 / 102 = 1.0\n",
      "02q-place at museum: 97.0 / 97 = 1.0\n",
      "02q-place at roadway: 91.0 / 91 = 1.0\n",
      "02q-place at place: 88.0 / 88 = 1.0\n",
      "02q-place at meadow: 82.0 / 82 = 1.0\n",
      "02q-place at courtyard: 77.0 / 77 = 1.0\n",
      "02q-place at restroom: 70.0 / 70 = 1.0\n",
      "02q-place at tunnel: 69.0 / 69 = 1.0\n",
      "02q-place at hotel: 67.0 / 67 = 1.0\n",
      "02q-place at backyard: 66.0 / 66 = 1.0\n",
      "02q-place at classroom: 65.0 / 65 = 1.0\n",
      "02q-place at hallway: 56.0 / 56 = 1.0\n",
      "02q-place at marina: 56.0 / 56 = 1.0\n",
      "02q-place at stage: 56.0 / 56 = 1.0\n",
      "02q-place at cafe: 52.0 / 52 = 1.0\n",
      "02q-place at terminal: 52.0 / 52 = 1.0\n",
      "02q-place at mall: 43.0 / 43 = 1.0\n",
      "02q-place at bakery: 36.0 / 36 = 1.0\n",
      "02q-place at hangar: 35.0 / 35 = 1.0\n",
      "02q-place at library: 32.0 / 32 = 1.0\n",
      "02q-place at auditorium: 28.0 / 28 = 1.0\n",
      "02q-place at roadside: 25.0 / 25 = 1.0\n",
      "02q-place at village: 22.0 / 22 = 1.0\n",
      "02q-place at hospital: 22.0 / 22 = 1.0\n",
      "02q-place at orchard: 21.0 / 21 = 1.0\n",
      "02q-place at entrance: 21.0 / 21 = 1.0\n",
      "02q-place at cafeteria: 20.0 / 20 = 1.0\n",
      "02q-place at gym: 19.0 / 19 = 1.0\n",
      "02q-place at theater: 19.0 / 19 = 1.0\n",
      "02q-place at gas station: 18.0 / 18 = 1.0\n",
      "02q-place at kiosk: 17.0 / 17 = 1.0\n",
      "02q-place at swamp: 15.0 / 15 = 1.0\n",
      "02q-place at lobby: 14.0 / 14 = 1.0\n",
      "02q-place at supermarket: 12.0 / 12 = 1.0\n",
      "02q-place at amusement park: 12.0 / 12 = 1.0\n",
      "02q-place at shopping center: 11.0 / 11 = 1.0\n",
      "02q-place at salon: 11.0 / 11 = 1.0\n",
      "02q-place at school: 11.0 / 11 = 1.0\n",
      "02q-place at coffee shop: 9.0 / 9 = 1.0\n",
      "02q-place at cemetery: 6.0 / 6 = 1.0\n",
      "02q-place at pub: 6.0 / 6 = 1.0\n",
      "02q-place at pizza shop: 4.0 / 4 = 1.0\n",
      "02q-place at lounge: 4.0 / 4 = 1.0\n"
     ]
    },
    {
     "data": {
      "text/plain": [
       "{'open': defaultdict(dict,\n",
       "             {'02q-place': {'field': 0.681198347107438,\n",
       "               'road': 0.9751348339147583,\n",
       "               'street': 0.8217722432883363,\n",
       "               'sidewalk': 0.9953890489913547,\n",
       "               'beach': 0.9953890489913545,\n",
       "               'ocean': 0.8637095497050722,\n",
       "               'park': 0.8358580461095102,\n",
       "               'pavement': 0.9953890489913546,\n",
       "               'city': 0.9953890489913546,\n",
       "               'forest': 0.9953890489913547,\n",
       "               'airport': 0.9953890489913546,\n",
       "               'station': 0.9953890489913546,\n",
       "               'zoo': 0.9953890489913547,\n",
       "               'parking lot': 0.9953890489913547,\n",
       "               'river': 0.9953890489913547,\n",
       "               'restaurant': 0.9953890489913546,\n",
       "               'store': 0.9953890489913546,\n",
       "               'lake': 0.9953890489913546,\n",
       "               'train station': 0.9953890489913547,\n",
       "               'skate park': 0.9953890489913547,\n",
       "               'yard': 0.9953890489913546,\n",
       "               'pen': 0.9953890489913546,\n",
       "               'path': 0.9953890489913545,\n",
       "               'walkway': 0.9953890489913545,\n",
       "               'display': 0.9953890489913545,\n",
       "               'runway': 0.9953890489913545,\n",
       "               'pasture': 0.9953890489913545,\n",
       "               'stadium': 0.9953890489913546,\n",
       "               'shore': 1.0,\n",
       "               'garden': 1.0,\n",
       "               'market': 1.0,\n",
       "               'lawn': 1.0,\n",
       "               'sea': 1.0,\n",
       "               'church': 1.0,\n",
       "               'swimming pool': 1.0,\n",
       "               'shop': 1.0,\n",
       "               'pond': 1.0,\n",
       "               'harbor': 1.0,\n",
       "               'farm': 1.0,\n",
       "               'patio': 1.0,\n",
       "               'highway': 1.0,\n",
       "               'town': 1.0,\n",
       "               'porch': 1.0,\n",
       "               'desert': 1.0,\n",
       "               'plain': 1.0,\n",
       "               'garage': 1.0,\n",
       "               'railroad': 1.0,\n",
       "               'hotel room': 1.0,\n",
       "               'museum': 1.0,\n",
       "               'roadway': 1.0,\n",
       "               'place': 1.0,\n",
       "               'meadow': 1.0,\n",
       "               'courtyard': 1.0,\n",
       "               'restroom': 1.0,\n",
       "               'tunnel': 1.0,\n",
       "               'hotel': 1.0,\n",
       "               'backyard': 1.0,\n",
       "               'classroom': 1.0,\n",
       "               'hallway': 1.0,\n",
       "               'marina': 1.0,\n",
       "               'stage': 1.0,\n",
       "               'cafe': 1.0,\n",
       "               'terminal': 1.0,\n",
       "               'mall': 1.0,\n",
       "               'bakery': 1.0,\n",
       "               'hangar': 1.0,\n",
       "               'library': 1.0,\n",
       "               'auditorium': 1.0,\n",
       "               'roadside': 1.0,\n",
       "               'village': 1.0,\n",
       "               'hospital': 1.0,\n",
       "               'orchard': 1.0,\n",
       "               'entrance': 1.0,\n",
       "               'cafeteria': 1.0,\n",
       "               'gym': 1.0,\n",
       "               'theater': 1.0,\n",
       "               'gas station': 1.0,\n",
       "               'kiosk': 1.0,\n",
       "               'swamp': 1.0,\n",
       "               'lobby': 1.0,\n",
       "               'supermarket': 1.0,\n",
       "               'amusement park': 1.0,\n",
       "               'shopping center': 1.0,\n",
       "               'salon': 1.0,\n",
       "               'school': 1.0,\n",
       "               'coffee shop': 1.0,\n",
       "               'cemetery': 1.0,\n",
       "               'pub': 1.0,\n",
       "               'pizza shop': 1.0,\n",
       "               'lounge': 1.0}}),\n",
       " 'boolean': defaultdict(dict, {})}"
      ]
     },
     "execution_count": 25,
     "metadata": {},
     "output_type": "execute_result"
    }
   ],
   "source": [
    "smoother = smtr_cust\n",
    "\n",
    "# relevant code from unbiasRatios()\n",
    "for cond in counters[\"open\"]:\n",
    "    ansDist = counters[\"open\"][cond]\n",
    "    answers = list(ansDist.keys()) \n",
    "    if len(answers) == 1: # and cond not in [\"age\", ]\n",
    "        print(\"removedOpen\", cond)            \n",
    "        ratios[\"open\"][cond][answers[0]] = min(1, float(1) / ansDist[answers[0]]) # 0.0\n",
    "    else:\n",
    "        sansDist = list(ansDist.items())\n",
    "        sansDist = sorted(sansDist, key = lambda x: x[1], reverse = True)\n",
    "        counts = [float(c) for _,c in sansDist]\n",
    "        newCounts = smoother(counts)\n",
    "        for i,c in enumerate(newCounts):\n",
    "            print(f\"{cond} at {sansDist[i][0]}: {c} / {sansDist[i][1]} = {float(c) / sansDist[i][1]}\")\n",
    "            ratios[\"open\"][cond][sansDist[i][0]] = float(c) / sansDist[i][1]\n",
    "\n",
    "# relevant code from toRatios(): not possible because of the missing questionSubtypes\n",
    "\n",
    "ratios"
   ]
  },
  {
   "cell_type": "code",
   "execution_count": 37,
   "metadata": {},
   "outputs": [
    {
     "data": {
      "text/html": [
       "<div>\n",
       "<style scoped>\n",
       "    .dataframe tbody tr th:only-of-type {\n",
       "        vertical-align: middle;\n",
       "    }\n",
       "\n",
       "    .dataframe tbody tr th {\n",
       "        vertical-align: top;\n",
       "    }\n",
       "\n",
       "    .dataframe thead th {\n",
       "        text-align: right;\n",
       "    }\n",
       "</style>\n",
       "<table border=\"1\" class=\"dataframe\">\n",
       "  <thead>\n",
       "    <tr style=\"text-align: right;\">\n",
       "      <th></th>\n",
       "      <th>value</th>\n",
       "    </tr>\n",
       "    <tr>\n",
       "      <th>index</th>\n",
       "      <th></th>\n",
       "    </tr>\n",
       "  </thead>\n",
       "  <tbody>\n",
       "    <tr>\n",
       "      <th>field</th>\n",
       "      <td>0.681198</td>\n",
       "    </tr>\n",
       "    <tr>\n",
       "      <th>road</th>\n",
       "      <td>0.975135</td>\n",
       "    </tr>\n",
       "    <tr>\n",
       "      <th>street</th>\n",
       "      <td>0.821772</td>\n",
       "    </tr>\n",
       "    <tr>\n",
       "      <th>sidewalk</th>\n",
       "      <td>0.995389</td>\n",
       "    </tr>\n",
       "    <tr>\n",
       "      <th>beach</th>\n",
       "      <td>0.995389</td>\n",
       "    </tr>\n",
       "    <tr>\n",
       "      <th>...</th>\n",
       "      <td>...</td>\n",
       "    </tr>\n",
       "    <tr>\n",
       "      <th>coffee shop</th>\n",
       "      <td>1.000000</td>\n",
       "    </tr>\n",
       "    <tr>\n",
       "      <th>cemetery</th>\n",
       "      <td>1.000000</td>\n",
       "    </tr>\n",
       "    <tr>\n",
       "      <th>pub</th>\n",
       "      <td>1.000000</td>\n",
       "    </tr>\n",
       "    <tr>\n",
       "      <th>pizza shop</th>\n",
       "      <td>1.000000</td>\n",
       "    </tr>\n",
       "    <tr>\n",
       "      <th>lounge</th>\n",
       "      <td>1.000000</td>\n",
       "    </tr>\n",
       "  </tbody>\n",
       "</table>\n",
       "<p>90 rows × 1 columns</p>\n",
       "</div>"
      ],
      "text/plain": [
       "                value\n",
       "index                \n",
       "field        0.681198\n",
       "road         0.975135\n",
       "street       0.821772\n",
       "sidewalk     0.995389\n",
       "beach        0.995389\n",
       "...               ...\n",
       "coffee shop  1.000000\n",
       "cemetery     1.000000\n",
       "pub          1.000000\n",
       "pizza shop   1.000000\n",
       "lounge       1.000000\n",
       "\n",
       "[90 rows x 1 columns]"
      ]
     },
     "execution_count": 37,
     "metadata": {},
     "output_type": "execute_result"
    }
   ],
   "source": [
    "# iterate through ratios['open']['02q-place'] and take the keys as the index and the value as the value\n",
    "# then format it as a dataframe\n",
    "smoothed_by_column = pd.DataFrame([(k, v) for k, v in ratios['open']['02q-place'].items()], columns=['index', 'value'])\n",
    "smoothed_by_column.index = smoothed_by_column['index']\n",
    "smoothed_by_column.drop(columns=['index'], inplace=True)\n",
    "smoothed_by_column"
   ]
  },
  {
   "cell_type": "code",
   "execution_count": 54,
   "metadata": {},
   "outputs": [
    {
     "data": {
      "text/plain": [
       "answer\n",
       "field          9196\n",
       "road           5966\n",
       "street         5130\n",
       "sidewalk       3069\n",
       "beach          2886\n",
       "               ... \n",
       "coffee shop       9\n",
       "cemetery          6\n",
       "pub               6\n",
       "pizza shop        4\n",
       "lounge            4\n",
       "Name: count, Length: 90, dtype: int64"
      ]
     },
     "execution_count": 54,
     "metadata": {},
     "output_type": "execute_result"
    }
   ],
   "source": [
    "# make a histogram of the all_filtered_by_column.value_counts()\n",
    "all_filtered_by_column_vc = all_filtered_by_column['answer'].value_counts()\n",
    "balanced_filtered_by_column_vc = balanced_filtered_by_column['answer'].value_counts()\n",
    "all_filtered_by_column_vc"
   ]
  },
  {
   "cell_type": "code",
   "execution_count": 41,
   "metadata": {},
   "outputs": [
    {
     "data": {
      "text/plain": [
       "airport           861.011527\n",
       "amusement park     12.000000\n",
       "auditorium         28.000000\n",
       "backyard           66.000000\n",
       "bakery             36.000000\n",
       "                     ...    \n",
       "tunnel             69.000000\n",
       "village            22.000000\n",
       "walkway           395.169452\n",
       "yard              419.058790\n",
       "zoo               771.426513\n",
       "Length: 90, dtype: float64"
      ]
     },
     "execution_count": 41,
     "metadata": {},
     "output_type": "execute_result"
    }
   ],
   "source": [
    "smoothed_by_column_vc = smoothed_by_column['value'] * all_filtered_by_column_vc\n",
    "smoothed_by_column_vc"
   ]
  },
  {
   "cell_type": "code",
   "execution_count": 55,
   "metadata": {},
   "outputs": [
    {
     "data": {
      "application/vnd.plotly.v1+json": {
       "config": {
        "plotlyServerURL": "https://plot.ly"
       },
       "data": [
        {
         "name": "all",
         "type": "bar",
         "x": [
          "field",
          "road",
          "street",
          "sidewalk",
          "beach",
          "ocean",
          "park",
          "pavement",
          "city",
          "forest",
          "airport",
          "station",
          "zoo",
          "parking lot",
          "river",
          "restaurant",
          "store",
          "lake",
          "train station",
          "skate park",
          "yard",
          "pen",
          "path",
          "walkway",
          "display",
          "runway",
          "pasture",
          "stadium",
          "shore",
          "garden",
          "market",
          "lawn",
          "sea",
          "church",
          "swimming pool",
          "shop",
          "pond",
          "harbor",
          "farm",
          "patio",
          "highway",
          "town",
          "porch",
          "desert",
          "plain",
          "garage",
          "railroad",
          "hotel room",
          "museum",
          "roadway",
          "place",
          "meadow",
          "courtyard",
          "restroom",
          "tunnel",
          "hotel",
          "backyard",
          "classroom",
          "stage",
          "hallway",
          "marina",
          "cafe",
          "terminal",
          "mall",
          "bakery",
          "hangar",
          "library",
          "auditorium",
          "roadside",
          "hospital",
          "village",
          "entrance",
          "orchard",
          "cafeteria",
          "gym",
          "theater",
          "gas station",
          "kiosk",
          "swamp",
          "lobby",
          "amusement park",
          "supermarket",
          "school",
          "salon",
          "shopping center",
          "coffee shop",
          "cemetery",
          "pub",
          "pizza shop",
          "lounge"
         ],
         "y": [
          9196,
          5966,
          5130,
          3069,
          2886,
          2671,
          2000,
          1217,
          1197,
          1027,
          865,
          781,
          775,
          754,
          740,
          574,
          531,
          523,
          449,
          432,
          421,
          412,
          398,
          397,
          380,
          367,
          350,
          347,
          314,
          248,
          233,
          223,
          214,
          208,
          197,
          185,
          164,
          162,
          146,
          145,
          137,
          129,
          129,
          122,
          118,
          115,
          102,
          102,
          97,
          91,
          88,
          82,
          77,
          70,
          69,
          67,
          66,
          65,
          56,
          56,
          56,
          52,
          52,
          43,
          36,
          35,
          32,
          28,
          25,
          22,
          22,
          21,
          21,
          20,
          19,
          19,
          18,
          17,
          15,
          14,
          12,
          12,
          11,
          11,
          11,
          9,
          6,
          6,
          4,
          4
         ]
        },
        {
         "name": "smoothed",
         "type": "bar",
         "x": [
          "airport",
          "amusement park",
          "auditorium",
          "backyard",
          "bakery",
          "beach",
          "cafe",
          "cafeteria",
          "cemetery",
          "church",
          "city",
          "classroom",
          "coffee shop",
          "courtyard",
          "desert",
          "display",
          "entrance",
          "farm",
          "field",
          "forest",
          "garage",
          "garden",
          "gas station",
          "gym",
          "hallway",
          "hangar",
          "harbor",
          "highway",
          "hospital",
          "hotel",
          "hotel room",
          "kiosk",
          "lake",
          "lawn",
          "library",
          "lobby",
          "lounge",
          "mall",
          "marina",
          "market",
          "meadow",
          "museum",
          "ocean",
          "orchard",
          "park",
          "parking lot",
          "pasture",
          "path",
          "patio",
          "pavement",
          "pen",
          "pizza shop",
          "place",
          "plain",
          "pond",
          "porch",
          "pub",
          "railroad",
          "restaurant",
          "restroom",
          "river",
          "road",
          "roadside",
          "roadway",
          "runway",
          "salon",
          "school",
          "sea",
          "shop",
          "shopping center",
          "shore",
          "sidewalk",
          "skate park",
          "stadium",
          "stage",
          "station",
          "store",
          "street",
          "supermarket",
          "swamp",
          "swimming pool",
          "terminal",
          "theater",
          "town",
          "train station",
          "tunnel",
          "village",
          "walkway",
          "yard",
          "zoo"
         ],
         "y": [
          861.0115273775217,
          12,
          28,
          66,
          36,
          2872.692795389049,
          52,
          20,
          6,
          208,
          1191.4806916426514,
          65,
          9,
          77,
          122,
          378.2478386167147,
          21,
          146,
          6264.299999999999,
          1022.2645533141213,
          115,
          248,
          18,
          19,
          56,
          35,
          162,
          137,
          22,
          67,
          102,
          17,
          520.5884726224784,
          223,
          32,
          14,
          4,
          43,
          56,
          233,
          82,
          97,
          2306.9682072622477,
          21,
          1671.7160922190203,
          750.5233429394815,
          348.38616714697406,
          396.1648414985591,
          145,
          1211.3884726224785,
          410.1002881844381,
          4,
          88,
          118,
          164,
          129,
          6,
          102,
          571.3533141210376,
          70,
          736.5878962536025,
          5817.654419135448,
          25,
          91,
          365.3077809798271,
          11,
          11,
          214,
          185,
          11,
          314,
          3054.8489913544677,
          430.00806916426524,
          345.40000000000003,
          56,
          777.398847262248,
          528.5515850144093,
          4215.691608069165,
          12,
          15,
          197,
          52,
          19,
          129,
          446.9296829971183,
          69,
          22,
          395.16945244956776,
          419.0587896253603,
          771.4265129682999
         ]
        },
        {
         "name": "balanced",
         "type": "bar",
         "x": [
          "field",
          "street",
          "ocean",
          "road",
          "beach",
          "park",
          "pavement",
          "station",
          "sidewalk",
          "city",
          "lake",
          "forest",
          "airport",
          "skate park",
          "pen",
          "yard",
          "walkway",
          "path",
          "parking lot",
          "display",
          "zoo",
          "river",
          "runway",
          "pasture",
          "stadium",
          "shore",
          "restaurant",
          "store",
          "market",
          "train station",
          "lawn",
          "sea",
          "swimming pool",
          "patio",
          "highway",
          "garden",
          "town",
          "porch",
          "church",
          "plain",
          "railroad",
          "hotel room",
          "shop",
          "pond",
          "place",
          "roadway",
          "courtyard",
          "harbor",
          "meadow",
          "farm",
          "tunnel",
          "restroom",
          "garage",
          "backyard",
          "desert",
          "classroom",
          "stage",
          "cafe",
          "terminal",
          "museum",
          "mall",
          "hangar",
          "bakery",
          "hotel",
          "hallway",
          "auditorium",
          "marina",
          "roadside",
          "orchard",
          "hospital",
          "gym",
          "entrance",
          "kiosk",
          "library",
          "gas station",
          "cafeteria",
          "amusement park",
          "supermarket",
          "salon",
          "school",
          "lobby",
          "village",
          "shopping center",
          "theater",
          "coffee shop",
          "pub",
          "swamp",
          "pizza shop",
          "cemetery",
          "lounge"
         ],
         "y": [
          1882,
          1614,
          1195,
          915,
          798,
          624,
          580,
          579,
          537,
          465,
          398,
          395,
          340,
          326,
          321,
          318,
          307,
          304,
          298,
          292,
          290,
          283,
          281,
          271,
          268,
          242,
          211,
          204,
          179,
          176,
          170,
          160,
          156,
          124,
          116,
          105,
          104,
          102,
          98,
          98,
          93,
          86,
          84,
          72,
          70,
          69,
          68,
          68,
          66,
          63,
          60,
          59,
          55,
          54,
          53,
          53,
          48,
          44,
          44,
          42,
          38,
          32,
          30,
          29,
          25,
          24,
          24,
          22,
          18,
          18,
          18,
          16,
          16,
          16,
          14,
          14,
          12,
          10,
          10,
          10,
          10,
          9,
          9,
          8,
          8,
          6,
          5,
          4,
          4,
          4
         ]
        }
       ],
       "layout": {
        "barmode": "overlay",
        "template": {
         "data": {
          "bar": [
           {
            "error_x": {
             "color": "#2a3f5f"
            },
            "error_y": {
             "color": "#2a3f5f"
            },
            "marker": {
             "line": {
              "color": "#E5ECF6",
              "width": 0.5
             },
             "pattern": {
              "fillmode": "overlay",
              "size": 10,
              "solidity": 0.2
             }
            },
            "type": "bar"
           }
          ],
          "barpolar": [
           {
            "marker": {
             "line": {
              "color": "#E5ECF6",
              "width": 0.5
             },
             "pattern": {
              "fillmode": "overlay",
              "size": 10,
              "solidity": 0.2
             }
            },
            "type": "barpolar"
           }
          ],
          "carpet": [
           {
            "aaxis": {
             "endlinecolor": "#2a3f5f",
             "gridcolor": "white",
             "linecolor": "white",
             "minorgridcolor": "white",
             "startlinecolor": "#2a3f5f"
            },
            "baxis": {
             "endlinecolor": "#2a3f5f",
             "gridcolor": "white",
             "linecolor": "white",
             "minorgridcolor": "white",
             "startlinecolor": "#2a3f5f"
            },
            "type": "carpet"
           }
          ],
          "choropleth": [
           {
            "colorbar": {
             "outlinewidth": 0,
             "ticks": ""
            },
            "type": "choropleth"
           }
          ],
          "contour": [
           {
            "colorbar": {
             "outlinewidth": 0,
             "ticks": ""
            },
            "colorscale": [
             [
              0,
              "#0d0887"
             ],
             [
              0.1111111111111111,
              "#46039f"
             ],
             [
              0.2222222222222222,
              "#7201a8"
             ],
             [
              0.3333333333333333,
              "#9c179e"
             ],
             [
              0.4444444444444444,
              "#bd3786"
             ],
             [
              0.5555555555555556,
              "#d8576b"
             ],
             [
              0.6666666666666666,
              "#ed7953"
             ],
             [
              0.7777777777777778,
              "#fb9f3a"
             ],
             [
              0.8888888888888888,
              "#fdca26"
             ],
             [
              1,
              "#f0f921"
             ]
            ],
            "type": "contour"
           }
          ],
          "contourcarpet": [
           {
            "colorbar": {
             "outlinewidth": 0,
             "ticks": ""
            },
            "type": "contourcarpet"
           }
          ],
          "heatmap": [
           {
            "colorbar": {
             "outlinewidth": 0,
             "ticks": ""
            },
            "colorscale": [
             [
              0,
              "#0d0887"
             ],
             [
              0.1111111111111111,
              "#46039f"
             ],
             [
              0.2222222222222222,
              "#7201a8"
             ],
             [
              0.3333333333333333,
              "#9c179e"
             ],
             [
              0.4444444444444444,
              "#bd3786"
             ],
             [
              0.5555555555555556,
              "#d8576b"
             ],
             [
              0.6666666666666666,
              "#ed7953"
             ],
             [
              0.7777777777777778,
              "#fb9f3a"
             ],
             [
              0.8888888888888888,
              "#fdca26"
             ],
             [
              1,
              "#f0f921"
             ]
            ],
            "type": "heatmap"
           }
          ],
          "heatmapgl": [
           {
            "colorbar": {
             "outlinewidth": 0,
             "ticks": ""
            },
            "colorscale": [
             [
              0,
              "#0d0887"
             ],
             [
              0.1111111111111111,
              "#46039f"
             ],
             [
              0.2222222222222222,
              "#7201a8"
             ],
             [
              0.3333333333333333,
              "#9c179e"
             ],
             [
              0.4444444444444444,
              "#bd3786"
             ],
             [
              0.5555555555555556,
              "#d8576b"
             ],
             [
              0.6666666666666666,
              "#ed7953"
             ],
             [
              0.7777777777777778,
              "#fb9f3a"
             ],
             [
              0.8888888888888888,
              "#fdca26"
             ],
             [
              1,
              "#f0f921"
             ]
            ],
            "type": "heatmapgl"
           }
          ],
          "histogram": [
           {
            "marker": {
             "pattern": {
              "fillmode": "overlay",
              "size": 10,
              "solidity": 0.2
             }
            },
            "type": "histogram"
           }
          ],
          "histogram2d": [
           {
            "colorbar": {
             "outlinewidth": 0,
             "ticks": ""
            },
            "colorscale": [
             [
              0,
              "#0d0887"
             ],
             [
              0.1111111111111111,
              "#46039f"
             ],
             [
              0.2222222222222222,
              "#7201a8"
             ],
             [
              0.3333333333333333,
              "#9c179e"
             ],
             [
              0.4444444444444444,
              "#bd3786"
             ],
             [
              0.5555555555555556,
              "#d8576b"
             ],
             [
              0.6666666666666666,
              "#ed7953"
             ],
             [
              0.7777777777777778,
              "#fb9f3a"
             ],
             [
              0.8888888888888888,
              "#fdca26"
             ],
             [
              1,
              "#f0f921"
             ]
            ],
            "type": "histogram2d"
           }
          ],
          "histogram2dcontour": [
           {
            "colorbar": {
             "outlinewidth": 0,
             "ticks": ""
            },
            "colorscale": [
             [
              0,
              "#0d0887"
             ],
             [
              0.1111111111111111,
              "#46039f"
             ],
             [
              0.2222222222222222,
              "#7201a8"
             ],
             [
              0.3333333333333333,
              "#9c179e"
             ],
             [
              0.4444444444444444,
              "#bd3786"
             ],
             [
              0.5555555555555556,
              "#d8576b"
             ],
             [
              0.6666666666666666,
              "#ed7953"
             ],
             [
              0.7777777777777778,
              "#fb9f3a"
             ],
             [
              0.8888888888888888,
              "#fdca26"
             ],
             [
              1,
              "#f0f921"
             ]
            ],
            "type": "histogram2dcontour"
           }
          ],
          "mesh3d": [
           {
            "colorbar": {
             "outlinewidth": 0,
             "ticks": ""
            },
            "type": "mesh3d"
           }
          ],
          "parcoords": [
           {
            "line": {
             "colorbar": {
              "outlinewidth": 0,
              "ticks": ""
             }
            },
            "type": "parcoords"
           }
          ],
          "pie": [
           {
            "automargin": true,
            "type": "pie"
           }
          ],
          "scatter": [
           {
            "fillpattern": {
             "fillmode": "overlay",
             "size": 10,
             "solidity": 0.2
            },
            "type": "scatter"
           }
          ],
          "scatter3d": [
           {
            "line": {
             "colorbar": {
              "outlinewidth": 0,
              "ticks": ""
             }
            },
            "marker": {
             "colorbar": {
              "outlinewidth": 0,
              "ticks": ""
             }
            },
            "type": "scatter3d"
           }
          ],
          "scattercarpet": [
           {
            "marker": {
             "colorbar": {
              "outlinewidth": 0,
              "ticks": ""
             }
            },
            "type": "scattercarpet"
           }
          ],
          "scattergeo": [
           {
            "marker": {
             "colorbar": {
              "outlinewidth": 0,
              "ticks": ""
             }
            },
            "type": "scattergeo"
           }
          ],
          "scattergl": [
           {
            "marker": {
             "colorbar": {
              "outlinewidth": 0,
              "ticks": ""
             }
            },
            "type": "scattergl"
           }
          ],
          "scattermapbox": [
           {
            "marker": {
             "colorbar": {
              "outlinewidth": 0,
              "ticks": ""
             }
            },
            "type": "scattermapbox"
           }
          ],
          "scatterpolar": [
           {
            "marker": {
             "colorbar": {
              "outlinewidth": 0,
              "ticks": ""
             }
            },
            "type": "scatterpolar"
           }
          ],
          "scatterpolargl": [
           {
            "marker": {
             "colorbar": {
              "outlinewidth": 0,
              "ticks": ""
             }
            },
            "type": "scatterpolargl"
           }
          ],
          "scatterternary": [
           {
            "marker": {
             "colorbar": {
              "outlinewidth": 0,
              "ticks": ""
             }
            },
            "type": "scatterternary"
           }
          ],
          "surface": [
           {
            "colorbar": {
             "outlinewidth": 0,
             "ticks": ""
            },
            "colorscale": [
             [
              0,
              "#0d0887"
             ],
             [
              0.1111111111111111,
              "#46039f"
             ],
             [
              0.2222222222222222,
              "#7201a8"
             ],
             [
              0.3333333333333333,
              "#9c179e"
             ],
             [
              0.4444444444444444,
              "#bd3786"
             ],
             [
              0.5555555555555556,
              "#d8576b"
             ],
             [
              0.6666666666666666,
              "#ed7953"
             ],
             [
              0.7777777777777778,
              "#fb9f3a"
             ],
             [
              0.8888888888888888,
              "#fdca26"
             ],
             [
              1,
              "#f0f921"
             ]
            ],
            "type": "surface"
           }
          ],
          "table": [
           {
            "cells": {
             "fill": {
              "color": "#EBF0F8"
             },
             "line": {
              "color": "white"
             }
            },
            "header": {
             "fill": {
              "color": "#C8D4E3"
             },
             "line": {
              "color": "white"
             }
            },
            "type": "table"
           }
          ]
         },
         "layout": {
          "annotationdefaults": {
           "arrowcolor": "#2a3f5f",
           "arrowhead": 0,
           "arrowwidth": 1
          },
          "autotypenumbers": "strict",
          "coloraxis": {
           "colorbar": {
            "outlinewidth": 0,
            "ticks": ""
           }
          },
          "colorscale": {
           "diverging": [
            [
             0,
             "#8e0152"
            ],
            [
             0.1,
             "#c51b7d"
            ],
            [
             0.2,
             "#de77ae"
            ],
            [
             0.3,
             "#f1b6da"
            ],
            [
             0.4,
             "#fde0ef"
            ],
            [
             0.5,
             "#f7f7f7"
            ],
            [
             0.6,
             "#e6f5d0"
            ],
            [
             0.7,
             "#b8e186"
            ],
            [
             0.8,
             "#7fbc41"
            ],
            [
             0.9,
             "#4d9221"
            ],
            [
             1,
             "#276419"
            ]
           ],
           "sequential": [
            [
             0,
             "#0d0887"
            ],
            [
             0.1111111111111111,
             "#46039f"
            ],
            [
             0.2222222222222222,
             "#7201a8"
            ],
            [
             0.3333333333333333,
             "#9c179e"
            ],
            [
             0.4444444444444444,
             "#bd3786"
            ],
            [
             0.5555555555555556,
             "#d8576b"
            ],
            [
             0.6666666666666666,
             "#ed7953"
            ],
            [
             0.7777777777777778,
             "#fb9f3a"
            ],
            [
             0.8888888888888888,
             "#fdca26"
            ],
            [
             1,
             "#f0f921"
            ]
           ],
           "sequentialminus": [
            [
             0,
             "#0d0887"
            ],
            [
             0.1111111111111111,
             "#46039f"
            ],
            [
             0.2222222222222222,
             "#7201a8"
            ],
            [
             0.3333333333333333,
             "#9c179e"
            ],
            [
             0.4444444444444444,
             "#bd3786"
            ],
            [
             0.5555555555555556,
             "#d8576b"
            ],
            [
             0.6666666666666666,
             "#ed7953"
            ],
            [
             0.7777777777777778,
             "#fb9f3a"
            ],
            [
             0.8888888888888888,
             "#fdca26"
            ],
            [
             1,
             "#f0f921"
            ]
           ]
          },
          "colorway": [
           "#636efa",
           "#EF553B",
           "#00cc96",
           "#ab63fa",
           "#FFA15A",
           "#19d3f3",
           "#FF6692",
           "#B6E880",
           "#FF97FF",
           "#FECB52"
          ],
          "font": {
           "color": "#2a3f5f"
          },
          "geo": {
           "bgcolor": "white",
           "lakecolor": "white",
           "landcolor": "#E5ECF6",
           "showlakes": true,
           "showland": true,
           "subunitcolor": "white"
          },
          "hoverlabel": {
           "align": "left"
          },
          "hovermode": "closest",
          "mapbox": {
           "style": "light"
          },
          "paper_bgcolor": "white",
          "plot_bgcolor": "#E5ECF6",
          "polar": {
           "angularaxis": {
            "gridcolor": "white",
            "linecolor": "white",
            "ticks": ""
           },
           "bgcolor": "#E5ECF6",
           "radialaxis": {
            "gridcolor": "white",
            "linecolor": "white",
            "ticks": ""
           }
          },
          "scene": {
           "xaxis": {
            "backgroundcolor": "#E5ECF6",
            "gridcolor": "white",
            "gridwidth": 2,
            "linecolor": "white",
            "showbackground": true,
            "ticks": "",
            "zerolinecolor": "white"
           },
           "yaxis": {
            "backgroundcolor": "#E5ECF6",
            "gridcolor": "white",
            "gridwidth": 2,
            "linecolor": "white",
            "showbackground": true,
            "ticks": "",
            "zerolinecolor": "white"
           },
           "zaxis": {
            "backgroundcolor": "#E5ECF6",
            "gridcolor": "white",
            "gridwidth": 2,
            "linecolor": "white",
            "showbackground": true,
            "ticks": "",
            "zerolinecolor": "white"
           }
          },
          "shapedefaults": {
           "line": {
            "color": "#2a3f5f"
           }
          },
          "ternary": {
           "aaxis": {
            "gridcolor": "white",
            "linecolor": "white",
            "ticks": ""
           },
           "baxis": {
            "gridcolor": "white",
            "linecolor": "white",
            "ticks": ""
           },
           "bgcolor": "#E5ECF6",
           "caxis": {
            "gridcolor": "white",
            "linecolor": "white",
            "ticks": ""
           }
          },
          "title": {
           "x": 0.05
          },
          "xaxis": {
           "automargin": true,
           "gridcolor": "white",
           "linecolor": "white",
           "ticks": "",
           "title": {
            "standoff": 15
           },
           "zerolinecolor": "white",
           "zerolinewidth": 2
          },
          "yaxis": {
           "automargin": true,
           "gridcolor": "white",
           "linecolor": "white",
           "ticks": "",
           "title": {
            "standoff": 15
           },
           "zerolinecolor": "white",
           "zerolinewidth": 2
          }
         }
        },
        "title": {
         "text": "Smoothed count distribution for 02q-place questions"
        },
        "xaxis": {
         "categoryarray": [
          "field",
          "road",
          "street",
          "sidewalk",
          "beach",
          "ocean",
          "park",
          "pavement",
          "city",
          "forest",
          "airport",
          "station",
          "zoo",
          "parking lot",
          "river",
          "restaurant",
          "store",
          "lake",
          "train station",
          "skate park",
          "yard",
          "pen",
          "path",
          "walkway",
          "display",
          "runway",
          "pasture",
          "stadium",
          "shore",
          "garden",
          "market",
          "lawn",
          "sea",
          "church",
          "swimming pool",
          "shop",
          "pond",
          "harbor",
          "farm",
          "patio",
          "highway",
          "town",
          "porch",
          "desert",
          "plain",
          "garage",
          "railroad",
          "hotel room",
          "museum",
          "roadway",
          "place",
          "meadow",
          "courtyard",
          "restroom",
          "tunnel",
          "hotel",
          "backyard",
          "classroom",
          "stage",
          "hallway",
          "marina",
          "cafe",
          "terminal",
          "mall",
          "bakery",
          "hangar",
          "library",
          "auditorium",
          "roadside",
          "hospital",
          "village",
          "entrance",
          "orchard",
          "cafeteria",
          "gym",
          "theater",
          "gas station",
          "kiosk",
          "swamp",
          "lobby",
          "amusement park",
          "supermarket",
          "school",
          "salon",
          "shopping center",
          "coffee shop",
          "cemetery",
          "pub",
          "pizza shop",
          "lounge"
         ],
         "categoryorder": "array"
        }
       }
      },
      "text/html": [
       "<div>                            <div id=\"9223cdaf-1ba4-4c02-84a2-93bc29693de2\" class=\"plotly-graph-div\" style=\"height:525px; width:100%;\"></div>            <script type=\"text/javascript\">                require([\"plotly\"], function(Plotly) {                    window.PLOTLYENV=window.PLOTLYENV || {};                                    if (document.getElementById(\"9223cdaf-1ba4-4c02-84a2-93bc29693de2\")) {                    Plotly.newPlot(                        \"9223cdaf-1ba4-4c02-84a2-93bc29693de2\",                        [{\"name\":\"all\",\"x\":[\"field\",\"road\",\"street\",\"sidewalk\",\"beach\",\"ocean\",\"park\",\"pavement\",\"city\",\"forest\",\"airport\",\"station\",\"zoo\",\"parking lot\",\"river\",\"restaurant\",\"store\",\"lake\",\"train station\",\"skate park\",\"yard\",\"pen\",\"path\",\"walkway\",\"display\",\"runway\",\"pasture\",\"stadium\",\"shore\",\"garden\",\"market\",\"lawn\",\"sea\",\"church\",\"swimming pool\",\"shop\",\"pond\",\"harbor\",\"farm\",\"patio\",\"highway\",\"town\",\"porch\",\"desert\",\"plain\",\"garage\",\"railroad\",\"hotel room\",\"museum\",\"roadway\",\"place\",\"meadow\",\"courtyard\",\"restroom\",\"tunnel\",\"hotel\",\"backyard\",\"classroom\",\"stage\",\"hallway\",\"marina\",\"cafe\",\"terminal\",\"mall\",\"bakery\",\"hangar\",\"library\",\"auditorium\",\"roadside\",\"hospital\",\"village\",\"entrance\",\"orchard\",\"cafeteria\",\"gym\",\"theater\",\"gas station\",\"kiosk\",\"swamp\",\"lobby\",\"amusement park\",\"supermarket\",\"school\",\"salon\",\"shopping center\",\"coffee shop\",\"cemetery\",\"pub\",\"pizza shop\",\"lounge\"],\"y\":[9196,5966,5130,3069,2886,2671,2000,1217,1197,1027,865,781,775,754,740,574,531,523,449,432,421,412,398,397,380,367,350,347,314,248,233,223,214,208,197,185,164,162,146,145,137,129,129,122,118,115,102,102,97,91,88,82,77,70,69,67,66,65,56,56,56,52,52,43,36,35,32,28,25,22,22,21,21,20,19,19,18,17,15,14,12,12,11,11,11,9,6,6,4,4],\"type\":\"bar\"},{\"name\":\"smoothed\",\"x\":[\"airport\",\"amusement park\",\"auditorium\",\"backyard\",\"bakery\",\"beach\",\"cafe\",\"cafeteria\",\"cemetery\",\"church\",\"city\",\"classroom\",\"coffee shop\",\"courtyard\",\"desert\",\"display\",\"entrance\",\"farm\",\"field\",\"forest\",\"garage\",\"garden\",\"gas station\",\"gym\",\"hallway\",\"hangar\",\"harbor\",\"highway\",\"hospital\",\"hotel\",\"hotel room\",\"kiosk\",\"lake\",\"lawn\",\"library\",\"lobby\",\"lounge\",\"mall\",\"marina\",\"market\",\"meadow\",\"museum\",\"ocean\",\"orchard\",\"park\",\"parking lot\",\"pasture\",\"path\",\"patio\",\"pavement\",\"pen\",\"pizza shop\",\"place\",\"plain\",\"pond\",\"porch\",\"pub\",\"railroad\",\"restaurant\",\"restroom\",\"river\",\"road\",\"roadside\",\"roadway\",\"runway\",\"salon\",\"school\",\"sea\",\"shop\",\"shopping center\",\"shore\",\"sidewalk\",\"skate park\",\"stadium\",\"stage\",\"station\",\"store\",\"street\",\"supermarket\",\"swamp\",\"swimming pool\",\"terminal\",\"theater\",\"town\",\"train station\",\"tunnel\",\"village\",\"walkway\",\"yard\",\"zoo\"],\"y\":[861.0115273775217,12.0,28.0,66.0,36.0,2872.692795389049,52.0,20.0,6.0,208.0,1191.4806916426514,65.0,9.0,77.0,122.0,378.2478386167147,21.0,146.0,6264.299999999999,1022.2645533141213,115.0,248.0,18.0,19.0,56.0,35.0,162.0,137.0,22.0,67.0,102.0,17.0,520.5884726224784,223.0,32.0,14.0,4.0,43.0,56.0,233.0,82.0,97.0,2306.9682072622477,21.0,1671.7160922190203,750.5233429394815,348.38616714697406,396.1648414985591,145.0,1211.3884726224785,410.1002881844381,4.0,88.0,118.0,164.0,129.0,6.0,102.0,571.3533141210376,70.0,736.5878962536025,5817.654419135448,25.0,91.0,365.3077809798271,11.0,11.0,214.0,185.0,11.0,314.0,3054.8489913544677,430.00806916426524,345.40000000000003,56.0,777.398847262248,528.5515850144093,4215.691608069165,12.0,15.0,197.0,52.0,19.0,129.0,446.9296829971183,69.0,22.0,395.16945244956776,419.0587896253603,771.4265129682999],\"type\":\"bar\"},{\"name\":\"balanced\",\"x\":[\"field\",\"street\",\"ocean\",\"road\",\"beach\",\"park\",\"pavement\",\"station\",\"sidewalk\",\"city\",\"lake\",\"forest\",\"airport\",\"skate park\",\"pen\",\"yard\",\"walkway\",\"path\",\"parking lot\",\"display\",\"zoo\",\"river\",\"runway\",\"pasture\",\"stadium\",\"shore\",\"restaurant\",\"store\",\"market\",\"train station\",\"lawn\",\"sea\",\"swimming pool\",\"patio\",\"highway\",\"garden\",\"town\",\"porch\",\"church\",\"plain\",\"railroad\",\"hotel room\",\"shop\",\"pond\",\"place\",\"roadway\",\"courtyard\",\"harbor\",\"meadow\",\"farm\",\"tunnel\",\"restroom\",\"garage\",\"backyard\",\"desert\",\"classroom\",\"stage\",\"cafe\",\"terminal\",\"museum\",\"mall\",\"hangar\",\"bakery\",\"hotel\",\"hallway\",\"auditorium\",\"marina\",\"roadside\",\"orchard\",\"hospital\",\"gym\",\"entrance\",\"kiosk\",\"library\",\"gas station\",\"cafeteria\",\"amusement park\",\"supermarket\",\"salon\",\"school\",\"lobby\",\"village\",\"shopping center\",\"theater\",\"coffee shop\",\"pub\",\"swamp\",\"pizza shop\",\"cemetery\",\"lounge\"],\"y\":[1882,1614,1195,915,798,624,580,579,537,465,398,395,340,326,321,318,307,304,298,292,290,283,281,271,268,242,211,204,179,176,170,160,156,124,116,105,104,102,98,98,93,86,84,72,70,69,68,68,66,63,60,59,55,54,53,53,48,44,44,42,38,32,30,29,25,24,24,22,18,18,18,16,16,16,14,14,12,10,10,10,10,9,9,8,8,6,5,4,4,4],\"type\":\"bar\"}],                        {\"template\":{\"data\":{\"histogram2dcontour\":[{\"type\":\"histogram2dcontour\",\"colorbar\":{\"outlinewidth\":0,\"ticks\":\"\"},\"colorscale\":[[0.0,\"#0d0887\"],[0.1111111111111111,\"#46039f\"],[0.2222222222222222,\"#7201a8\"],[0.3333333333333333,\"#9c179e\"],[0.4444444444444444,\"#bd3786\"],[0.5555555555555556,\"#d8576b\"],[0.6666666666666666,\"#ed7953\"],[0.7777777777777778,\"#fb9f3a\"],[0.8888888888888888,\"#fdca26\"],[1.0,\"#f0f921\"]]}],\"choropleth\":[{\"type\":\"choropleth\",\"colorbar\":{\"outlinewidth\":0,\"ticks\":\"\"}}],\"histogram2d\":[{\"type\":\"histogram2d\",\"colorbar\":{\"outlinewidth\":0,\"ticks\":\"\"},\"colorscale\":[[0.0,\"#0d0887\"],[0.1111111111111111,\"#46039f\"],[0.2222222222222222,\"#7201a8\"],[0.3333333333333333,\"#9c179e\"],[0.4444444444444444,\"#bd3786\"],[0.5555555555555556,\"#d8576b\"],[0.6666666666666666,\"#ed7953\"],[0.7777777777777778,\"#fb9f3a\"],[0.8888888888888888,\"#fdca26\"],[1.0,\"#f0f921\"]]}],\"heatmap\":[{\"type\":\"heatmap\",\"colorbar\":{\"outlinewidth\":0,\"ticks\":\"\"},\"colorscale\":[[0.0,\"#0d0887\"],[0.1111111111111111,\"#46039f\"],[0.2222222222222222,\"#7201a8\"],[0.3333333333333333,\"#9c179e\"],[0.4444444444444444,\"#bd3786\"],[0.5555555555555556,\"#d8576b\"],[0.6666666666666666,\"#ed7953\"],[0.7777777777777778,\"#fb9f3a\"],[0.8888888888888888,\"#fdca26\"],[1.0,\"#f0f921\"]]}],\"heatmapgl\":[{\"type\":\"heatmapgl\",\"colorbar\":{\"outlinewidth\":0,\"ticks\":\"\"},\"colorscale\":[[0.0,\"#0d0887\"],[0.1111111111111111,\"#46039f\"],[0.2222222222222222,\"#7201a8\"],[0.3333333333333333,\"#9c179e\"],[0.4444444444444444,\"#bd3786\"],[0.5555555555555556,\"#d8576b\"],[0.6666666666666666,\"#ed7953\"],[0.7777777777777778,\"#fb9f3a\"],[0.8888888888888888,\"#fdca26\"],[1.0,\"#f0f921\"]]}],\"contourcarpet\":[{\"type\":\"contourcarpet\",\"colorbar\":{\"outlinewidth\":0,\"ticks\":\"\"}}],\"contour\":[{\"type\":\"contour\",\"colorbar\":{\"outlinewidth\":0,\"ticks\":\"\"},\"colorscale\":[[0.0,\"#0d0887\"],[0.1111111111111111,\"#46039f\"],[0.2222222222222222,\"#7201a8\"],[0.3333333333333333,\"#9c179e\"],[0.4444444444444444,\"#bd3786\"],[0.5555555555555556,\"#d8576b\"],[0.6666666666666666,\"#ed7953\"],[0.7777777777777778,\"#fb9f3a\"],[0.8888888888888888,\"#fdca26\"],[1.0,\"#f0f921\"]]}],\"surface\":[{\"type\":\"surface\",\"colorbar\":{\"outlinewidth\":0,\"ticks\":\"\"},\"colorscale\":[[0.0,\"#0d0887\"],[0.1111111111111111,\"#46039f\"],[0.2222222222222222,\"#7201a8\"],[0.3333333333333333,\"#9c179e\"],[0.4444444444444444,\"#bd3786\"],[0.5555555555555556,\"#d8576b\"],[0.6666666666666666,\"#ed7953\"],[0.7777777777777778,\"#fb9f3a\"],[0.8888888888888888,\"#fdca26\"],[1.0,\"#f0f921\"]]}],\"mesh3d\":[{\"type\":\"mesh3d\",\"colorbar\":{\"outlinewidth\":0,\"ticks\":\"\"}}],\"scatter\":[{\"fillpattern\":{\"fillmode\":\"overlay\",\"size\":10,\"solidity\":0.2},\"type\":\"scatter\"}],\"parcoords\":[{\"type\":\"parcoords\",\"line\":{\"colorbar\":{\"outlinewidth\":0,\"ticks\":\"\"}}}],\"scatterpolargl\":[{\"type\":\"scatterpolargl\",\"marker\":{\"colorbar\":{\"outlinewidth\":0,\"ticks\":\"\"}}}],\"bar\":[{\"error_x\":{\"color\":\"#2a3f5f\"},\"error_y\":{\"color\":\"#2a3f5f\"},\"marker\":{\"line\":{\"color\":\"#E5ECF6\",\"width\":0.5},\"pattern\":{\"fillmode\":\"overlay\",\"size\":10,\"solidity\":0.2}},\"type\":\"bar\"}],\"scattergeo\":[{\"type\":\"scattergeo\",\"marker\":{\"colorbar\":{\"outlinewidth\":0,\"ticks\":\"\"}}}],\"scatterpolar\":[{\"type\":\"scatterpolar\",\"marker\":{\"colorbar\":{\"outlinewidth\":0,\"ticks\":\"\"}}}],\"histogram\":[{\"marker\":{\"pattern\":{\"fillmode\":\"overlay\",\"size\":10,\"solidity\":0.2}},\"type\":\"histogram\"}],\"scattergl\":[{\"type\":\"scattergl\",\"marker\":{\"colorbar\":{\"outlinewidth\":0,\"ticks\":\"\"}}}],\"scatter3d\":[{\"type\":\"scatter3d\",\"line\":{\"colorbar\":{\"outlinewidth\":0,\"ticks\":\"\"}},\"marker\":{\"colorbar\":{\"outlinewidth\":0,\"ticks\":\"\"}}}],\"scattermapbox\":[{\"type\":\"scattermapbox\",\"marker\":{\"colorbar\":{\"outlinewidth\":0,\"ticks\":\"\"}}}],\"scatterternary\":[{\"type\":\"scatterternary\",\"marker\":{\"colorbar\":{\"outlinewidth\":0,\"ticks\":\"\"}}}],\"scattercarpet\":[{\"type\":\"scattercarpet\",\"marker\":{\"colorbar\":{\"outlinewidth\":0,\"ticks\":\"\"}}}],\"carpet\":[{\"aaxis\":{\"endlinecolor\":\"#2a3f5f\",\"gridcolor\":\"white\",\"linecolor\":\"white\",\"minorgridcolor\":\"white\",\"startlinecolor\":\"#2a3f5f\"},\"baxis\":{\"endlinecolor\":\"#2a3f5f\",\"gridcolor\":\"white\",\"linecolor\":\"white\",\"minorgridcolor\":\"white\",\"startlinecolor\":\"#2a3f5f\"},\"type\":\"carpet\"}],\"table\":[{\"cells\":{\"fill\":{\"color\":\"#EBF0F8\"},\"line\":{\"color\":\"white\"}},\"header\":{\"fill\":{\"color\":\"#C8D4E3\"},\"line\":{\"color\":\"white\"}},\"type\":\"table\"}],\"barpolar\":[{\"marker\":{\"line\":{\"color\":\"#E5ECF6\",\"width\":0.5},\"pattern\":{\"fillmode\":\"overlay\",\"size\":10,\"solidity\":0.2}},\"type\":\"barpolar\"}],\"pie\":[{\"automargin\":true,\"type\":\"pie\"}]},\"layout\":{\"autotypenumbers\":\"strict\",\"colorway\":[\"#636efa\",\"#EF553B\",\"#00cc96\",\"#ab63fa\",\"#FFA15A\",\"#19d3f3\",\"#FF6692\",\"#B6E880\",\"#FF97FF\",\"#FECB52\"],\"font\":{\"color\":\"#2a3f5f\"},\"hovermode\":\"closest\",\"hoverlabel\":{\"align\":\"left\"},\"paper_bgcolor\":\"white\",\"plot_bgcolor\":\"#E5ECF6\",\"polar\":{\"bgcolor\":\"#E5ECF6\",\"angularaxis\":{\"gridcolor\":\"white\",\"linecolor\":\"white\",\"ticks\":\"\"},\"radialaxis\":{\"gridcolor\":\"white\",\"linecolor\":\"white\",\"ticks\":\"\"}},\"ternary\":{\"bgcolor\":\"#E5ECF6\",\"aaxis\":{\"gridcolor\":\"white\",\"linecolor\":\"white\",\"ticks\":\"\"},\"baxis\":{\"gridcolor\":\"white\",\"linecolor\":\"white\",\"ticks\":\"\"},\"caxis\":{\"gridcolor\":\"white\",\"linecolor\":\"white\",\"ticks\":\"\"}},\"coloraxis\":{\"colorbar\":{\"outlinewidth\":0,\"ticks\":\"\"}},\"colorscale\":{\"sequential\":[[0.0,\"#0d0887\"],[0.1111111111111111,\"#46039f\"],[0.2222222222222222,\"#7201a8\"],[0.3333333333333333,\"#9c179e\"],[0.4444444444444444,\"#bd3786\"],[0.5555555555555556,\"#d8576b\"],[0.6666666666666666,\"#ed7953\"],[0.7777777777777778,\"#fb9f3a\"],[0.8888888888888888,\"#fdca26\"],[1.0,\"#f0f921\"]],\"sequentialminus\":[[0.0,\"#0d0887\"],[0.1111111111111111,\"#46039f\"],[0.2222222222222222,\"#7201a8\"],[0.3333333333333333,\"#9c179e\"],[0.4444444444444444,\"#bd3786\"],[0.5555555555555556,\"#d8576b\"],[0.6666666666666666,\"#ed7953\"],[0.7777777777777778,\"#fb9f3a\"],[0.8888888888888888,\"#fdca26\"],[1.0,\"#f0f921\"]],\"diverging\":[[0,\"#8e0152\"],[0.1,\"#c51b7d\"],[0.2,\"#de77ae\"],[0.3,\"#f1b6da\"],[0.4,\"#fde0ef\"],[0.5,\"#f7f7f7\"],[0.6,\"#e6f5d0\"],[0.7,\"#b8e186\"],[0.8,\"#7fbc41\"],[0.9,\"#4d9221\"],[1,\"#276419\"]]},\"xaxis\":{\"gridcolor\":\"white\",\"linecolor\":\"white\",\"ticks\":\"\",\"title\":{\"standoff\":15},\"zerolinecolor\":\"white\",\"automargin\":true,\"zerolinewidth\":2},\"yaxis\":{\"gridcolor\":\"white\",\"linecolor\":\"white\",\"ticks\":\"\",\"title\":{\"standoff\":15},\"zerolinecolor\":\"white\",\"automargin\":true,\"zerolinewidth\":2},\"scene\":{\"xaxis\":{\"backgroundcolor\":\"#E5ECF6\",\"gridcolor\":\"white\",\"linecolor\":\"white\",\"showbackground\":true,\"ticks\":\"\",\"zerolinecolor\":\"white\",\"gridwidth\":2},\"yaxis\":{\"backgroundcolor\":\"#E5ECF6\",\"gridcolor\":\"white\",\"linecolor\":\"white\",\"showbackground\":true,\"ticks\":\"\",\"zerolinecolor\":\"white\",\"gridwidth\":2},\"zaxis\":{\"backgroundcolor\":\"#E5ECF6\",\"gridcolor\":\"white\",\"linecolor\":\"white\",\"showbackground\":true,\"ticks\":\"\",\"zerolinecolor\":\"white\",\"gridwidth\":2}},\"shapedefaults\":{\"line\":{\"color\":\"#2a3f5f\"}},\"annotationdefaults\":{\"arrowcolor\":\"#2a3f5f\",\"arrowhead\":0,\"arrowwidth\":1},\"geo\":{\"bgcolor\":\"white\",\"landcolor\":\"#E5ECF6\",\"subunitcolor\":\"white\",\"showland\":true,\"showlakes\":true,\"lakecolor\":\"white\"},\"title\":{\"x\":0.05},\"mapbox\":{\"style\":\"light\"}}},\"xaxis\":{\"categoryorder\":\"array\",\"categoryarray\":[\"field\",\"road\",\"street\",\"sidewalk\",\"beach\",\"ocean\",\"park\",\"pavement\",\"city\",\"forest\",\"airport\",\"station\",\"zoo\",\"parking lot\",\"river\",\"restaurant\",\"store\",\"lake\",\"train station\",\"skate park\",\"yard\",\"pen\",\"path\",\"walkway\",\"display\",\"runway\",\"pasture\",\"stadium\",\"shore\",\"garden\",\"market\",\"lawn\",\"sea\",\"church\",\"swimming pool\",\"shop\",\"pond\",\"harbor\",\"farm\",\"patio\",\"highway\",\"town\",\"porch\",\"desert\",\"plain\",\"garage\",\"railroad\",\"hotel room\",\"museum\",\"roadway\",\"place\",\"meadow\",\"courtyard\",\"restroom\",\"tunnel\",\"hotel\",\"backyard\",\"classroom\",\"stage\",\"hallway\",\"marina\",\"cafe\",\"terminal\",\"mall\",\"bakery\",\"hangar\",\"library\",\"auditorium\",\"roadside\",\"hospital\",\"village\",\"entrance\",\"orchard\",\"cafeteria\",\"gym\",\"theater\",\"gas station\",\"kiosk\",\"swamp\",\"lobby\",\"amusement park\",\"supermarket\",\"school\",\"salon\",\"shopping center\",\"coffee shop\",\"cemetery\",\"pub\",\"pizza shop\",\"lounge\"]},\"barmode\":\"overlay\",\"title\":{\"text\":\"Smoothed count distribution for 02q-place questions\"}},                        {\"responsive\": true}                    ).then(function(){\n",
       "                            \n",
       "var gd = document.getElementById('9223cdaf-1ba4-4c02-84a2-93bc29693de2');\n",
       "var x = new MutationObserver(function (mutations, observer) {{\n",
       "        var display = window.getComputedStyle(gd).display;\n",
       "        if (!display || display === 'none') {{\n",
       "            console.log([gd, 'removed!']);\n",
       "            Plotly.purge(gd);\n",
       "            observer.disconnect();\n",
       "        }}\n",
       "}});\n",
       "\n",
       "// Listen for the removal of the full notebook cells\n",
       "var notebookContainer = gd.closest('#notebook-container');\n",
       "if (notebookContainer) {{\n",
       "    x.observe(notebookContainer, {childList: true});\n",
       "}}\n",
       "\n",
       "// Listen for the clearing of the current output cell\n",
       "var outputEl = gd.closest('.output');\n",
       "if (outputEl) {{\n",
       "    x.observe(outputEl, {childList: true});\n",
       "}}\n",
       "\n",
       "                        })                };                });            </script>        </div>"
      ]
     },
     "metadata": {},
     "output_type": "display_data"
    }
   ],
   "source": [
    "# plot the answer distribution change with a plotly stacked histogram, counting the number of ansers in balanced_filtered_by_column and all_filtered_by_column\n",
    "fig = go.Figure()\n",
    "fig.add_trace(go.Bar(y=all_filtered_by_column_vc, x=all_filtered_by_column_vc.index, name='all'))\n",
    "fig.add_trace(go.Bar(y=smoothed_by_column_vc, x=smoothed_by_column_vc.index, name='smoothed'))\n",
    "fig.add_trace(go.Bar(y=balanced_filtered_by_column_vc, x=balanced_filtered_by_column_vc.index, name='balanced'))\n",
    "\n",
    "order = list(all_filtered_by_column['answer'].value_counts().index)\n",
    "fig.update_xaxes(categoryorder='array', categoryarray= order)\n",
    "fig.update_layout(barmode='overlay', title=f'Smoothed count distribution for 02q-place questions')\n",
    "\n",
    "fig.write_image(f'results/BAL_smoothed_02q-place_answer_distribution.png', width=1500, height=600)\n",
    "if show_big_figures:\n",
    "    fig.show()"
   ]
  }
 ],
 "metadata": {
  "kernelspec": {
   "display_name": "Python 3",
   "language": "python",
   "name": "python3"
  },
  "language_info": {
   "codemirror_mode": {
    "name": "ipython",
    "version": 3
   },
   "file_extension": ".py",
   "mimetype": "text/x-python",
   "name": "python",
   "nbconvert_exporter": "python",
   "pygments_lexer": "ipython3",
   "version": "3.11.8"
  }
 },
 "nbformat": 4,
 "nbformat_minor": 2
}
